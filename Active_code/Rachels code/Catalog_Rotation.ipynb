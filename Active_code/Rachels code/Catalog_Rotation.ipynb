{
 "cells": [
  {
   "cell_type": "code",
   "execution_count": 1,
   "metadata": {},
   "outputs": [],
   "source": [
    "# Rotating num_cat catalogs num_rot times\n",
    "# hume, based on Rachel's code"
   ]
  },
  {
   "cell_type": "code",
   "execution_count": 2,
   "metadata": {
    "id": "5yZJRLIO_Ipt"
   },
   "outputs": [],
   "source": [
    "import numpy as np \n",
    "import matplotlib.pyplot as plt\n",
    "import tensorflow as tf \n",
    "from sklearn.preprocessing import StandardScaler\n",
    "import os\n",
    "import re\n",
    "from scipy.spatial.transform import Rotation as R\n",
    "import time\n",
    "\n",
    "#time\n",
    "from time import process_time\n",
    "from time import time\n",
    "\n",
    "start_process = process_time()\n",
    "start_time = time()\n",
    "\n",
    "tf.random.set_seed(982369253487)"
   ]
  },
  {
   "cell_type": "code",
   "execution_count": 3,
   "metadata": {},
   "outputs": [
    {
     "name": "stdout",
     "output_type": "stream",
     "text": [
      "C:/Users/yaras/Documents/Research/Feldman/outerrim/CF3-OuterRim-CF3grouplike-cz-rand/\n",
      "C:/Users/yaras/Documents/Research/Feldman/rotated-outerrim-cz-rand/rotations using Rachels code/\n",
      "C:/Users/yaras/Documents/Research/Feldman/outerrim/CF3-OuterRim-CF3grouplike-cz-rand/true_bulkflows150.npy\n"
     ]
    }
   ],
   "source": [
    "# how many catalogs to rotate\n",
    "\n",
    "num_cat = 300\n",
    "num_rot = 100\n",
    "\n",
    "# In the path below create a directory called rotated_{num_cat}_{num_rot}\n",
    "\n",
    "# filenames and paths\n",
    "\n",
    "filepathin = f'C:/Users/yaras/Documents/Research/Feldman/outerrim/CF3-OuterRim-CF3grouplike-cz-rand/'\n",
    "\n",
    "filepathout = f'C:/Users/yaras/Documents/Research/Feldman/rotated-outerrim-cz-rand/rotations using Rachels code/'\n",
    "\n",
    "filenameBF = f'C:/Users/yaras/Documents/Research/Feldman/outerrim/CF3-OuterRim-CF3grouplike-cz-rand/true_bulkflows150.npy'\n",
    "\n",
    "print(filepathin)\n",
    "print(filepathout)\n",
    "print(filenameBF)\n"
   ]
  },
  {
   "cell_type": "code",
   "execution_count": 4,
   "metadata": {
    "id": "E3bGmxw5AtfP"
   },
   "outputs": [
    {
     "name": "stdout",
     "output_type": "stream",
     "text": [
      "1 9\n"
     ]
    }
   ],
   "source": [
    "files_list = [] \n",
    "j = 0\n",
    "k = 0\n",
    "for x in os.listdir(filepathin):\n",
    "\n",
    "    if x[0] == str('C'): \n",
    "        j =+ 1\n",
    "        files_list.append(x)\n",
    "    else:\n",
    "        k += 1\n",
    "        pass\n",
    "print(j, k)"
   ]
  },
  {
   "cell_type": "code",
   "execution_count": 5,
   "metadata": {
    "colab": {
     "base_uri": "https://localhost:8080/"
    },
    "id": "emJFtgzl_KBU",
    "outputId": "1b2dd135-2e86-47b6-8de2-6d51aa03ef9d"
   },
   "outputs": [
    {
     "data": {
      "text/plain": [
       "array([ -25.39076889,  148.71427005, -144.27017343])"
      ]
     },
     "execution_count": 5,
     "metadata": {},
     "output_type": "execute_result"
    }
   ],
   "source": [
    "#scale of bulkflows used for this set is 150 MPC \n",
    "# bulkflows = np.load(\"/content/drive/My Drive/Research/outerrim/CF3-OuterRim-CF3grouplike-cz-rand/true_bulkflows150.npy\")\n",
    "\n",
    "bulkflows = np.load(filenameBF)\n",
    "bulkflows[:,0]"
   ]
  },
  {
   "cell_type": "code",
   "execution_count": 6,
   "metadata": {
    "id": "goqmTYmLFv-T"
   },
   "outputs": [],
   "source": [
    "# if only some of the catalogs rotate num_rot times\n",
    "\n",
    "galaxy_index = []\n",
    "path = filepathin\n",
    "\n",
    "k = 0\n",
    "while k < num_cat:    \n",
    "    \n",
    "    x = files_list[k]\n",
    "\n",
    "    data = np.load(path + x)\n",
    "    time1 = process_time()\n",
    "\n",
    "    i = 0 \n",
    "    while i < num_rot: \n",
    "        time2 = process_time()\n",
    "\n",
    "        temp = re.findall(r'\\d+', x)\n",
    "        res = list(map(int, temp))\n",
    "        bulkflow_ind = res[2]\n",
    "        galaxy_index.append(bulkflow_ind)\n",
    "\n",
    "        bulkflow = bulkflows[:,bulkflow_ind] #0 - bulkflow ind\n",
    "\n",
    "        rshift = data[:,6]\n",
    "        distmod = 5*np.log(data[:,7]) + 25 \n",
    "        distmod_err = np.random.normal(0, 0.4, len(distmod))\n",
    "\n",
    "        glon= data[:,10]*np.pi/180\n",
    "        glat= data[:,11]*np.pi/180\n",
    "\n",
    "        #make glon and glat into array of positions on the unit sphere\n",
    "        pos = np.array([np.cos(glon)*np.cos(glat),np.sin(glon)*np.cos(glat),np.sin(glat)])\n",
    "        pos = np.transpose(pos)\n",
    "\n",
    "        alpha = 2*np.pi*np.random.random()  #generate random rotation angles\n",
    "        beta = np.pi*np.random.random()\n",
    "        gamma = 2*np.pi*np.random.random()\n",
    "        \n",
    "        r = R.from_euler('xzx', [alpha,beta,gamma]) #create the rotation\n",
    "\n",
    "        posprime = r.apply(pos)  #apply the rotation to the vectors\n",
    "\n",
    "        #bulkflows already in cartesian, so no transformation like above? \n",
    "        bulkflowprime = r.apply(bulkflow)\n",
    "\n",
    "        #rotated_bulkflows.append(bulkflowprime)\n",
    "\n",
    "        glonprime = np.arctan2(posprime[:,1], posprime[:,0]) * 180 / np.pi  #convert back to glon and glat\n",
    "        glonprime[glonprime < 0] = 360 + glonprime[glonprime < 0]\n",
    "        \n",
    "        glatprime = np.arcsin(posprime[:,2]) * 180 / np.pi\n",
    "\n",
    "            # add rshift, dist mod, dist mod error, glon, glat, bulk flow to new file \n",
    "        #    with open('/content/drive/My Drive/Rotated/Rotated Catalog' + str(bulkflow_ind) + '_' + str(i) + '.npy.npz', 'wb') as f:\n",
    "                #stuff = np.array([rshift,glonprime,glatprime,distmod,distmod_err,bulkflowprime])\n",
    "        #        np.savez(f, redshift=rshift, glon=glonprime, glat=glatprime, distm = distmod, distmerr = distmod_err, bulkflow=bulkflowprime)\n",
    "\n",
    "        file_label = str(bulkflow_ind) + '_' + str(i) + '.npz'\n",
    "        with open(filepathout + file_label, 'wb') as f:\n",
    "            np.savez(f,\n",
    "                     redshift=rshift, \n",
    "                     glon=glonprime, \n",
    "                     glat=glatprime,\n",
    "                     distm = distmod, \n",
    "                     distmerr = distmod_err,\n",
    "                     bulkflow=bulkflowprime)\n",
    "            f.close()\n",
    "\n",
    "        i += 1\n",
    "\n",
    "    k += 1\n",
    "                    \n"
   ]
  },
  {
   "cell_type": "code",
   "execution_count": 7,
   "metadata": {
    "colab": {
     "base_uri": "https://localhost:8080/",
     "height": 35
    },
    "id": "vk_9YEmkVn8e",
    "outputId": "0486cc9f-7a72-45e2-a53e-70b406f966c8"
   },
   "outputs": [
    {
     "name": "stdout",
     "output_type": "stream",
     "text": [
      "\n",
      "   100 rotations on  300 catalogs in 113.45 s 123.42 s\r"
     ]
    }
   ],
   "source": [
    "print(\"\\n%6d rotations on %4d catalogs in %6.2f s %6.2f s\" % \n",
    "      (num_rot,num_cat,\n",
    "       process_time() - start_process,\n",
    "       time() - start_time), end = '\\r')\n",
    "\n",
    "#files_list[:num_cat] #didn't work???"
   ]
  }
 ],
 "metadata": {
  "colab": {
   "collapsed_sections": [],
   "name": "Rotation.ipynb",
   "provenance": []
  },
  "kernelspec": {
   "display_name": "Python 3.10.4 64-bit",
   "language": "python",
   "name": "python3"
  },
  "language_info": {
   "codemirror_mode": {
    "name": "ipython",
    "version": 3
   },
   "file_extension": ".py",
   "mimetype": "text/x-python",
   "name": "python",
   "nbconvert_exporter": "python",
   "pygments_lexer": "ipython3",
   "version": "3.10.4"
  },
  "vscode": {
   "interpreter": {
    "hash": "369f2c481f4da34e4445cda3fffd2e751bd1c4d706f27375911949ba6bb62e1c"
   }
  }
 },
 "nbformat": 4,
 "nbformat_minor": 1
}
