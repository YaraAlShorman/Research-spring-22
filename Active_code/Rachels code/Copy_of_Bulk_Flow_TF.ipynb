{
  "nbformat": 4,
  "nbformat_minor": 0,
  "metadata": {
    "colab": {
      "name": "Copy of Bulk Flow TF.ipynb",
      "provenance": [],
      "collapsed_sections": []
    },
    "kernelspec": {
      "name": "python3",
      "display_name": "Python 3"
    },
    "language_info": {
      "name": "python"
    }
  },
  "cells": [
    {
      "cell_type": "code",
      "execution_count": 1,
      "metadata": {
        "id": "zBOBP3vi6vBA"
      },
      "outputs": [],
      "source": [
        "import numpy as np \n",
        "import matplotlib.pyplot as plt\n",
        "from sklearn.datasets import load_iris\n",
        "from sklearn.linear_model import Perceptron\n",
        "import tensorflow as tf \n",
        "from tensorflow import keras\n",
        "import csv\n",
        "import os\n",
        "from keras import backend as K\n",
        "import math\n",
        "from scipy.stats import norm\n",
        "import os\n",
        "import re"
      ]
    },
    {
      "cell_type": "code",
      "source": [
        "from google.colab import drive\n",
        "drive.mount('/content/drive')"
      ],
      "metadata": {
        "colab": {
          "base_uri": "https://localhost:8080/"
        },
        "id": "hK46XM_T84gG",
        "outputId": "11fecd03-8efc-49e8-cb49-d9235d3d9359"
      },
      "execution_count": 2,
      "outputs": [
        {
          "output_type": "stream",
          "name": "stdout",
          "text": [
            "Mounted at /content/drive\n"
          ]
        }
      ]
    },
    {
      "cell_type": "code",
      "source": [
        "cutoff = 11100\n",
        "#this is the length I'm cutting off the data just arbitrarily when I'm using multiple catalogs\n",
        "#but here since i'm only using one it doesn't matter \n",
        "\n",
        "master_rshift = []\n",
        "master_dist_mod = [] #errors added on \n",
        "master_glat = [] \n",
        "master_glon = [] \n",
        "bulkflows = [] \n",
        "#I use this to determine the shortest length of data when using varied catalogs \n",
        "\n",
        "for x in os.listdir(\"/content/drive/My Drive/Rotated new all same\"):\n",
        "    data = np.load(\"/content/drive/My Drive/Rotated new all same/\"+x)\n",
        "    master_rshift.append(data['redshift'][:cutoff])\n",
        "    master_dist_mod.append(data['distm'][:cutoff] + data['distmerr'][:cutoff])\n",
        "    master_glat.append(data['glat'][:cutoff])\n",
        "    master_glon.append(data['glon'][:cutoff])\n",
        "    bulkflows.append(data['bulkflow'])\n",
        "    \n",
        "master_bulkflows = np.array(bulkflows) #cutoff is number of files \n",
        "\n",
        "#I scale the data to be between 0 and 1 here, where I am scaling it by the \n",
        "#largest value of all the data, as opposed to scaling each by \n",
        "#the maximum of that array respectively \n",
        "#not sure if this is the best approach? \n",
        "\n",
        "redshift = np.array(master_rshift)/np.max(np.concatenate(np.array(master_rshift))) \n",
        "distm = np.array(master_dist_mod)/np.max(np.concatenate(np.array(master_dist_mod)))\n",
        "glat = np.array(master_glat)/np.max(np.concatenate(np.array(master_glat)))\n",
        "glon = np.array(master_glon)/np.max(np.concatenate(np.array(master_glon)))\n",
        "\n",
        "x_max = max(master_bulkflows[:,0])\n",
        "y_max = max(master_bulkflows[:,1])\n",
        "z_max = max(master_bulkflows[:,2])\n",
        "\n",
        "master_bulkflows_scaled = [] \n",
        "for x in master_bulkflows: \n",
        "    master_bulkflows_scaled.append(x/(np.array([x_max,y_max,z_max])))\n",
        "    \n",
        "#Here I am preparing the data into it's training and testing sets \n",
        "\n",
        "X = np.stack([redshift,distm,glat,glon],axis=-1) #used to be -1\n",
        "y = np.array(master_bulkflows_scaled)\n",
        "train_percent = 0.6\n",
        "X_train,X_test = (X[:int(len(X)*train_percent)], X[int(len(X)*train_percent)::])\n",
        "y_train,y_test = (y[:int(len(y)*train_percent)], y[int(len(y)*train_percent)::])"
      ],
      "metadata": {
        "id": "NCdI0Jsb646T"
      },
      "execution_count": 3,
      "outputs": []
    },
    {
      "cell_type": "code",
      "source": [
        "#okay this is where it gets messy \n",
        "#so I had to write the program in a bit different formalism for it to work but it seems to mean the same \n",
        "#the below is the input, which is the size of the amount of arrays in each catalog\n",
        "#with the 4 being the size of each of those arrays (rshift, distmod, glat, glon)\n",
        "\n",
        "inputs = tf.keras.Input(shape=X_train.shape[1:])\n",
        "\n",
        "#here, it's like adding a first layer, where the (inputs) means you're putting the last thru this one \n",
        "x = tf.keras.layers.Conv1D(64, 16, activation='tanh')(inputs)\n",
        "#print(x.shape)\n",
        "#here you're doing the same thing, putting the last (x) in this new layer (x2) \n",
        "#the input shape is from the shape that the previous (x) CONV layer outputs \n",
        "#I don't know quite what the shape *means*, but you have to basically have the \n",
        "#input shape of a layer be whatever shape the last one output \n",
        "x2 = tf.keras.layers.Conv1D(32, 6, input_shape=x.shape[1:], activation='tanh')(x)\n",
        "#print(x2.shape[1:])\n",
        "x3 = tf.keras.layers.Conv1D(32, 4, input_shape=x2.shape[1:], activation='tanh')(x2)\n",
        "#now to put in our last layer, the dense layer, we have to flatten it to get our 3D single arrays \n",
        "#Flatten is itself a type of layer \n",
        "x4 = tf.keras.layers.Flatten()(x3)\n",
        "\n",
        "outputs = tf.keras.layers.Dense(3,activation='linear')(x4)\n",
        "\n",
        "model1 = tf.keras.Model(inputs=inputs,outputs=outputs)\n",
        "optimizer = tf.keras.optimizers.Adam(lr=0.00001)\n",
        "model1.compile(loss='mean_squared_error', optimizer=optimizer, metrics=['accuracy'])\n",
        "model1.fit(X_train,y_train,epochs=2)"
      ],
      "metadata": {
        "colab": {
          "base_uri": "https://localhost:8080/"
        },
        "id": "FDi-8mnD7Aae",
        "outputId": "78f50257-64a2-4d4b-865c-c8c1399fc894"
      },
      "execution_count": 5,
      "outputs": [
        {
          "output_type": "stream",
          "name": "stdout",
          "text": [
            "Epoch 1/2\n"
          ]
        },
        {
          "output_type": "stream",
          "name": "stderr",
          "text": [
            "/usr/local/lib/python3.7/dist-packages/keras/optimizer_v2/adam.py:105: UserWarning: The `lr` argument is deprecated, use `learning_rate` instead.\n",
            "  super(Adam, self).__init__(name, **kwargs)\n"
          ]
        },
        {
          "output_type": "stream",
          "name": "stdout",
          "text": [
            "57/57 [==============================] - 76s 1s/step - loss: 0.1184 - accuracy: 0.7583\n",
            "Epoch 2/2\n",
            "57/57 [==============================] - 76s 1s/step - loss: 0.0899 - accuracy: 0.7994\n"
          ]
        },
        {
          "output_type": "execute_result",
          "data": {
            "text/plain": [
              "<keras.callbacks.History at 0x7fd0b5fafc90>"
            ]
          },
          "metadata": {},
          "execution_count": 5
        }
      ]
    },
    {
      "cell_type": "code",
      "source": [
        "y_pred = model1.predict(X_test)\n",
        "plt.plot(y_test[:,0]*x_max,y_test[:,0]*x_max)\n",
        "plt.plot(y_test[:,0]*x_max,y_pred[:,0]*x_max,'ro')\n",
        "#plt.ylim(-15,0)\n",
        "plt.title('Predicted x components')\n",
        "plt.xlabel('km/s')\n",
        "plt.ylabel('km/s')\n",
        "plt.show()\n",
        "\n",
        "plt.plot(y_test[:,1]*y_max,y_test[:,1]*y_max)\n",
        "plt.plot(y_test[:,1]*y_max,y_pred[:,1]*y_max,'ro')\n",
        "#plt.ylim(-5,10)\n",
        "plt.title('Predicted y components')\n",
        "plt.xlabel('km/s')\n",
        "plt.ylabel('km/s')\n",
        "plt.show()\n",
        "\n",
        "plt.plot(y_test[:,2]*z_max,y_test[:,2]*z_max)\n",
        "plt.plot(y_test[:,2]*z_max,y_pred[:,2]*z_max,'ro')\n",
        "#plt.ylim(-10,2)\n",
        "plt.title('Predicted z components')\n",
        "plt.xlabel('km/s')\n",
        "plt.ylabel('km/s')\n",
        "plt.show()"
      ],
      "metadata": {
        "colab": {
          "base_uri": "https://localhost:8080/",
          "height": 851
        },
        "id": "QfDGFcrL7Cr9",
        "outputId": "dc00da06-9a54-4d92-ff01-c4cc18c53bc5"
      },
      "execution_count": 6,
      "outputs": [
        {
          "output_type": "display_data",
          "data": {
            "text/plain": [
              "<Figure size 432x288 with 1 Axes>"
            ],
            "image/png": "[encoded data removed]"
          },
          "metadata": {
            "needs_background": "light"
          }
        },
        {
          "output_type": "display_data",
          "data": {
            "text/plain": [
              "<Figure size 432x288 with 1 Axes>"
            ],
            "image/png": "[encoded data removed]"
          },
          "metadata": {
            "needs_background": "light"
          }
        },
        {
          "output_type": "display_data",
          "data": {
            "text/plain": [
              "<Figure size 432x288 with 1 Axes>"
            ],
            "image/png": "[encoded data removed]"
          },
          "metadata": {
            "needs_background": "light"
          }
        }
      ]
    },
    {
      "cell_type": "code",
      "source": [
        "x_preds = y_pred[:,0]*x_max\n",
        "y_preds = y_pred[:,1]*y_max\n",
        "z_preds = y_pred[:,2]*z_max\n",
        "\n",
        "bulkflows_pred = np.sqrt(x_preds**2 + y_preds**2 + z_preds**2)\n",
        "bulkflows_pred_yz = np.sqrt(y_preds**2 + z_preds**2)\n",
        "\n",
        "x_true = y_test[:,0]*x_max\n",
        "y_true = y_test[:,1]*y_max\n",
        "z_true = y_test[:,2]*z_max\n",
        "\n",
        "bulkflows_true = np.sqrt(x_true**2 + y_true**2 + z_true**2)\n",
        "bulkflows_true_yz = np.sqrt(y_true**2 + z_true**2)"
      ],
      "metadata": {
        "id": "fkDg_WtlDvM_"
      },
      "execution_count": 7,
      "outputs": []
    },
    {
      "cell_type": "code",
      "source": [
        "plt.plot(bulkflows_true,bulkflows_pred,'ro')\n",
        "plt.plot(bulkflows_true,bulkflows_true,'bo')"
      ],
      "metadata": {
        "colab": {
          "base_uri": "https://localhost:8080/",
          "height": 296
        },
        "id": "HQJiS2rsEp3X",
        "outputId": "f3d9e257-ad8f-47fd-8e14-6a65a651b17a"
      },
      "execution_count": 8,
      "outputs": [
        {
          "output_type": "execute_result",
          "data": {
            "text/plain": [
              "[<matplotlib.lines.Line2D at 0x7fd0b5908d90>]"
            ]
          },
          "metadata": {},
          "execution_count": 8
        },
        {
          "output_type": "display_data",
          "data": {
            "text/plain": [
              "<Figure size 432x288 with 1 Axes>"
            ],
            "image/png": "[encoded data removed]"
          },
          "metadata": {
            "needs_background": "light"
          }
        }
      ]
    },
    {
      "cell_type": "code",
      "source": [
        "plt.plot(bulkflows_true_yz,bulkflows_pred_yz,'ro')\n",
        "plt.plot(bulkflows_true_yz,bulkflows_true_yz,'bo')"
      ],
      "metadata": {
        "colab": {
          "base_uri": "https://localhost:8080/",
          "height": 283
        },
        "id": "dh68vajDNKPs",
        "outputId": "5b5b1786-82f5-4c09-a046-8cf00cce1424"
      },
      "execution_count": 9,
      "outputs": [
        {
          "output_type": "execute_result",
          "data": {
            "text/plain": [
              "[<matplotlib.lines.Line2D at 0x7fd0bd9852d0>]"
            ]
          },
          "metadata": {},
          "execution_count": 9
        },
        {
          "output_type": "display_data",
          "data": {
            "text/plain": [
              "<Figure size 432x288 with 1 Axes>"
            ],
            "image/png": "[encoded data removed]"
          },
          "metadata": {
            "needs_background": "light"
          }
        }
      ]
    }
  ]
}