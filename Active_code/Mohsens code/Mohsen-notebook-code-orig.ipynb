{
 "cells": [
  {
   "cell_type": "code",
   "execution_count": null,
   "id": "766a0a6d",
   "metadata": {},
   "outputs": [],
   "source": [
    "path = r'D:\\KU_Spring2022\\Cosmology'"
   ]
  },
  {
   "cell_type": "code",
   "execution_count": null,
   "id": "2ac61527",
   "metadata": {},
   "outputs": [],
   "source": [
    "import numpy as np\n",
    "import pandas as pd\n",
    "import os\n",
    "import tensorflow as tf\n",
    "from tensorflow.keras import layers, regularizers\n",
    "import matplotlib.pyplot as plt "
   ]
  },
  {
   "cell_type": "code",
   "execution_count": null,
   "id": "f53b1d08",
   "metadata": {},
   "outputs": [],
   "source": [
    "cutoff = 11100\n",
    "\n",
    "master_rshift = []\n",
    "master_dist_mod = [] #errors added on \n",
    "master_glat = [] \n",
    "master_glon = [] \n",
    "bulkflows = [] \n",
    "destination = path + '/data'\n",
    "\n",
    "for file in os.listdir(destination):\n",
    "    \n",
    "    data = np.load(destination + '/' + file)\n",
    "    \n",
    "    master_rshift.append(data['redshift'][:cutoff])\n",
    "    master_dist_mod.append(data['distm'][:cutoff] + data['distmerr'][:cutoff])\n",
    "    master_glat.append(data['glat'][:cutoff])\n",
    "    master_glon.append(data['glon'][:cutoff])\n",
    "    bulkflows.append(data['bulkflow'])\n",
    "    \n",
    "master_rshift = np.array(master_rshift) \n",
    "master_dist_mod = np.array(master_dist_mod)\n",
    "master_glat = np.array(master_glat)\n",
    "master_glon = np.array(master_glon)\n",
    "bulkflows = np.array(bulkflows)\n",
    "\n",
    "master_rshift = master_rshift / tf.math.reduce_max(master_rshift, axis=1, keepdims=True)\n",
    "master_dist_mod = master_dist_mod / tf.math.reduce_max(master_dist_mod, axis=1, keepdims=True)\n",
    "master_glat = master_glat / tf.math.reduce_max(master_glat, axis=1, keepdims=True)\n",
    "master_glon = master_glon / tf.math.reduce_max(master_glon, axis=1, keepdims=True)\n",
    "\n",
    "print(f'master_rshift.shape: {master_rshift.shape}')\n",
    "print(f'master_dist_mod.shape: {master_dist_mod.shape}')\n",
    "print(f'master_glat.shape: {master_glat.shape}')\n",
    "print(f'master_glon.shape: {master_glon.shape}')\n",
    "print(f'bulkflows.shape: {bulkflows.shape}')\n",
    "\n",
    "print()\n",
    "\n",
    "\n",
    "dataset = np.concatenate((master_rshift[:, :, np.newaxis], master_dist_mod[:, :, np.newaxis], master_glat[:, :, np.newaxis], master_glon[:, :, np.newaxis]), axis=2)\n",
    "labels = bulkflows\n",
    "\n",
    "\n",
    "#shuffle\n",
    "index=np.arange(len(dataset))\n",
    "np.random.shuffle(index)\n",
    "dataset = dataset[index]\n",
    "labels = labels[index]\n",
    "\n",
    "\n",
    "print(f'dataset.shape: {dataset.shape}')\n",
    "print(f'labels.shape: {labels.shape}')\n",
    "print()\n",
    "\n",
    "#create train set and validation set\n",
    "valid_index = int(len(dataset)*0.8)\n",
    "x_train = dataset[:valid_index]\n",
    "y_train = labels[:valid_index]\n",
    "\n",
    "x_valid_test = dataset[valid_index:]\n",
    "y_valid_test = labels[valid_index:]\n",
    "\n",
    "\n",
    "test_index = int(len(x_valid_test)*0.5)\n",
    "x_valid = x_valid_test[:test_index]\n",
    "y_valid = y_valid_test[:test_index]\n",
    "\n",
    "x_test = x_valid_test[test_index:]\n",
    "y_test = y_valid_test[test_index:]\n",
    "\n",
    "print(f'x_train.shape: {x_train.shape}')\n",
    "print(f'y_train.shape: {y_train.shape}')\n",
    "print()\n",
    "print(f'x_valid.shape: {x_valid.shape}')\n",
    "print(f'y_valid.shape: {y_valid.shape}')\n",
    "print()\n",
    "print(f'x_test.shape: {x_test.shape}')\n",
    "print(f'y_test.shape: {y_test.shape}')"
   ]
  },
  {
   "cell_type": "code",
   "execution_count": null,
   "id": "a6fe6ba5",
   "metadata": {},
   "outputs": [],
   "source": [
    "BATCH_SIZE = 50\n",
    "AUTOTUNE = tf.data.experimental.AUTOTUNE\n",
    "\n",
    "train_ds = tf.data.Dataset.from_tensor_slices((x_train, y_train))\n",
    "valid_ds = tf.data.Dataset.from_tensor_slices((x_valid, y_valid))\n",
    "test_ds = tf.data.Dataset.from_tensor_slices((x_test, y_test))\n",
    "\n",
    "train_ds = train_ds.cache().shuffle(x_train.shape[0]).batch(BATCH_SIZE).prefetch(AUTOTUNE)\n",
    "valid_ds = valid_ds.cache().shuffle(x_valid.shape[0]).batch(BATCH_SIZE).prefetch(AUTOTUNE)"
   ]
  },
  {
   "cell_type": "code",
   "execution_count": null,
   "id": "50dadee1",
   "metadata": {},
   "outputs": [],
   "source": [
    "# just to see the shape of our batched data samples\n",
    "x, y = next(iter(train_ds))\n",
    "print(x.shape)\n",
    "print(y.shape)\n",
    "\n",
    "print()\n",
    "\n",
    "x, y = next(iter(valid_ds))\n",
    "print(x.shape)\n",
    "print(y.shape)\n",
    "print()\n",
    "\n",
    "x, y = next(iter(test_ds))\n",
    "print(x.shape)\n",
    "print(y.shape)"
   ]
  },
  {
   "cell_type": "code",
   "execution_count": null,
   "id": "1df72815",
   "metadata": {},
   "outputs": [],
   "source": [
    "normalizer = layers.Normalization()\n",
    "normalizer.adapt(x_train)\n",
    "\n",
    "model = tf.keras.Sequential([\n",
    "    tf.keras.Input(shape=(11100, 4)),\n",
    "    normalizer,\n",
    "    layers.Conv1D(16, kernel_size=4, strides=4, kernel_regularizer=regularizers.l2(0.01)),\n",
    "    #layers.MaxPooling1D(),\n",
    "    layers.BatchNormalization(),\n",
    "    layers.ReLU(),\n",
    "    layers.Conv1D(32,kernel_size=4, strides=4, kernel_regularizer=regularizers.l2(0.01)),\n",
    "    layers.BatchNormalization(),\n",
    "    layers.ReLU(),\n",
    "    layers.Conv1D(64, kernel_size=4, strides=4, kernel_regularizer=regularizers.l2(0.01)),\n",
    "    layers.BatchNormalization(),\n",
    "    layers.ReLU(),\n",
    "    layers.Conv1D(128, kernel_size=4, strides=4, kernel_regularizer=regularizers.l2(0.01)),\n",
    "    layers.BatchNormalization(),\n",
    "    layers.ReLU(),\n",
    "    layers.Conv1D(256, kernel_size=4, strides=2, kernel_regularizer=regularizers.l2(0.01)),  \n",
    "    layers.BatchNormalization(),\n",
    "    layers.ReLU(),\n",
    "    layers.Conv1D(512, kernel_size=4, strides=1, kernel_regularizer=regularizers.l2(0.01)),\n",
    "    layers.Flatten(),\n",
    "    layers.Dense(1024, activation='relu'),\n",
    "    layers.Dropout(0.2),\n",
    "    layers.Dense(512, activation='relu'),\n",
    "    layers.Dropout(0.2),\n",
    "    layers.Dense(256, activation='relu'),\n",
    "    layers.Dropout(0.2),\n",
    "    layers.Dense(128, activation='relu'),\n",
    "    layers.Dropout(0.2),\n",
    "    layers.Dense(16),\n",
    "    layers.Dropout(0.1),\n",
    "    layers.Dense(3)\n",
    "])\n",
    "model.summary()"
   ]
  },
  {
   "cell_type": "code",
   "execution_count": null,
   "id": "8ed85705",
   "metadata": {},
   "outputs": [],
   "source": [
    "def scheduler(epoch, lr):\n",
    "  if epoch < 8:\n",
    "    return lr\n",
    "  else: \n",
    "    return lr*0.6\n",
    "\n",
    "learning_rate_scheduler = tf.keras.callbacks.LearningRateScheduler(scheduler, verbose=1)"
   ]
  },
  {
   "cell_type": "code",
   "execution_count": null,
   "id": "54a40956",
   "metadata": {},
   "outputs": [],
   "source": [
    "num_epochs=10\n",
    "optimizer=tf.keras.optimizers.Adam(learning_rate=0.0001)\n",
    "model.compile(loss='mean_squared_error', optimizer=optimizer, metrics=['accuracy'])\n",
    "history = model.fit(train_ds, epochs=num_epochs, verbose=2, batch_size=BATCH_SIZE, validation_data=valid_ds, callbacks=[learning_rate_scheduler])"
   ]
  },
  {
   "cell_type": "code",
   "execution_count": null,
   "id": "1f086ae7",
   "metadata": {},
   "outputs": [],
   "source": [
    "train_acc = history.history['accuracy']\n",
    "valid_acc = history.history['val_accuracy']\n",
    "plt.plot(np.arange(num_epochs), train_acc)\n",
    "plt.plot(np.arange(num_epochs), valid_acc)\n",
    "plt.legend(['train', 'validation'])\n",
    "plt.show()\n",
    "\n",
    "\n",
    "train_loss = history.history['loss']\n",
    "valid_loss = history.history['val_loss']\n",
    "plt.plot(np.arange(num_epochs), train_loss)\n",
    "plt.plot(np.arange(num_epochs), valid_loss)\n",
    "plt.legend(['train', 'validation'])\n",
    "plt.show()"
   ]
  },
  {
   "cell_type": "code",
   "execution_count": null,
   "id": "2e812dc6",
   "metadata": {
    "scrolled": true
   },
   "outputs": [],
   "source": [
    "model.evaluate(test_ds)"
   ]
  },
  {
   "cell_type": "code",
   "execution_count": null,
   "id": "65ced484",
   "metadata": {},
   "outputs": [],
   "source": [
    "y_pred = model.predict(x_test)\n",
    "n=10\n",
    "print(y_pred[n])\n",
    "print('=====================')\n",
    "print(y_test[n])"
   ]
  },
  {
   "cell_type": "code",
   "execution_count": null,
   "id": "80659cd2",
   "metadata": {},
   "outputs": [],
   "source": [
    "model.save('some path/name')\n",
    "model = keras.models.load_model('some path/name')"
   ]
  }
 ],
 "metadata": {
  "kernelspec": {
   "display_name": "Python 3 (ipykernel)",
   "language": "python",
   "name": "python3"
  },
  "language_info": {
   "codemirror_mode": {
    "name": "ipython",
    "version": 3
   },
   "file_extension": ".py",
   "mimetype": "text/x-python",
   "name": "python",
   "nbconvert_exporter": "python",
   "pygments_lexer": "ipython3",
   "version": "3.10.0"
  }
 },
 "nbformat": 4,
 "nbformat_minor": 5
}
