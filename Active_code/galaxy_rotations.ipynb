{
 "cells": [
  {
   "cell_type": "code",
   "execution_count": 1,
   "metadata": {},
   "outputs": [],
   "source": [
    "# # uncomment this to install packages\n",
    "# import sys\n",
    "# !{sys.executable} -m pip install <package name>"
   ]
  },
  {
   "cell_type": "markdown",
   "metadata": {},
   "source": [
    "### Imports"
   ]
  },
  {
   "cell_type": "code",
   "execution_count": 2,
   "metadata": {},
   "outputs": [],
   "source": [
    "# imports\n",
    "import numpy as np\n",
    "from astropy import units as u\n",
    "from astropy import coordinates as c\n",
    "import matplotlib.pyplot as plt\n",
    "from matplotlib import rcParams as P\n",
    "import astropy.modeling.rotations as r\n",
    "from scipy.spatial.transform import Rotation as R\n",
    "import math\n",
    "import random"
   ]
  },
  {
   "cell_type": "code",
   "execution_count": 3,
   "metadata": {},
   "outputs": [],
   "source": [
    "# matplotlib.rcParams.keys()"
   ]
  },
  {
   "cell_type": "markdown",
   "metadata": {},
   "source": [
    "### Helper functions"
   ]
  },
  {
   "cell_type": "markdown",
   "metadata": {},
   "source": [
    "#### angle generator"
   ]
  },
  {
   "cell_type": "code",
   "execution_count": 4,
   "metadata": {},
   "outputs": [],
   "source": [
    "def generate_angles():\n",
    "    # generates the 3 needed euler angles at random\n",
    "    # angles\n",
    "    alpha = 2 * np.pi * np.random.random()  #generate random rotation angles\n",
    "    beta = np.pi * np.random.random()\n",
    "    gamma = 2 * np.pi * np.random.random()\n",
    "    \n",
    "    # alpha, beta, gamma = 0.1, 0, 0\n",
    "    \n",
    "    return (alpha, beta, gamma)"
   ]
  },
  {
   "cell_type": "markdown",
   "metadata": {},
   "source": [
    "#### galaxy rotator"
   ]
  },
  {
   "cell_type": "code",
   "execution_count": 5,
   "metadata": {},
   "outputs": [],
   "source": [
    "# This function performs an Euler rotation on the data, returns the new glon and glat\n",
    "# prof. watkins' code (plus some additions of my own)\n",
    "# uses scipy to preform a random euler rotation  \n",
    "def rotate(data, angles):\n",
    "    \n",
    "    # 'angles' tuple must have 3 elements that coorespons to the euler angles of rotation\n",
    "    alpha, beta, gamma = angles\n",
    "    \n",
    "    # data part\n",
    "    glon = data[: ,10] * np.pi / 180\n",
    "    glat = data[: ,11] * np.pi / 180\n",
    "\n",
    "    #make glon and glat into array of positions on the unit sphere\n",
    "    pos = np.array([np.cos(glon) * np.cos(glat),  # alpha\n",
    "                np.sin(glon) * np.cos(glat),  # beta\n",
    "                np.sin(glat)])                # gamma\n",
    "\n",
    "    pos = np.transpose(pos)\n",
    "\n",
    "    r = R.from_euler('xzx', [alpha, beta, gamma]) #create the rotation\n",
    "    posprime = r.apply(pos)  #apply the rotation to the vectors\n",
    "\n",
    "    glonprime = np.arctan2(posprime[: ,1], posprime[: ,0]) * 180 / np.pi  #convert back to degrees\n",
    "    glonprime[glonprime < 0] = 360 + glonprime[glonprime < 0]\n",
    "\n",
    "    glatprime = np.arcsin(posprime[: ,2]) * 180/np.pi\n",
    "    \n",
    "    # accounting for zone of avoidance\n",
    "    indices = np.where(abs(glatprime) > 5)\n",
    "    glonprime = glonprime[indices]\n",
    "    glatprime = glatprime[indices]\n",
    "    \n",
    "    \n",
    "    # glonprime, glatprime = c.Angle(glonprime, u.degree), c.Angle(glatprime, u.degree)\n",
    "    glonprime = c.Angle(glonprime, u.degree)\n",
    "    glatprime = c.Angle(glatprime, u.degree)\n",
    "    \n",
    "    # print(f'{alpha=}, {beta=}, {gamma=}')  # angles of rotation (radians)\n",
    "    glonprime, glatprime = glonprime.wrap_at('180d', inplace=False).radian, glatprime.radian\n",
    "    \n",
    "    return glonprime, glatprime"
   ]
  },
  {
   "cell_type": "markdown",
   "metadata": {},
   "source": [
    "#### bulkflow rotator"
   ]
  },
  {
   "cell_type": "code",
   "execution_count": 6,
   "metadata": {},
   "outputs": [],
   "source": [
    "def rotate_bulkflow(bulkflow, angles: tuple, error: float):\n",
    "    # rotates one bulkflow for ONE catalogue at a time, to be used in a loop in sync with the previous rotate function\n",
    "    \n",
    "    # 'angles' tuple must have 3 elements that coorespons to the euler angles of rotation\n",
    "    alpha, beta, gamma = angles\n",
    "    \n",
    "    # rotation part\n",
    "    r = R.from_euler('xzx', [alpha, beta, gamma])\n",
    "    bulkflowprime = r.apply(bulkflow)\n",
    "    \n",
    "    bulkflowprime += bulkflowprime*error\n",
    "    \n",
    "    return bulkflowprime  # returns an array of the new components of the new bulkflow"
   ]
  },
  {
   "cell_type": "markdown",
   "metadata": {},
   "source": [
    "### 'main'\n",
    "#### Loading, processing, visualizing the data"
   ]
  },
  {
   "cell_type": "code",
   "execution_count": 7,
   "metadata": {},
   "outputs": [
    {
     "data": {
      "image/png": "[encoded data removed]",
      "text/plain": [
       "<Figure size 432x288 with 1 Axes>"
      ]
     },
     "metadata": {
      "needs_background": "light"
     },
     "output_type": "display_data"
    }
   ],
   "source": [
    "bulkflows = np.load('C:/Users/yaras/Documents/Research/Feldman/outerrim/CF3-OuterRim-CF3grouplike-cz-rand/true_bulkflows100.npy')\n",
    "\n",
    "# load the data\n",
    "for i in range(2,3): # use range(300) to run on all catalogues (BAD IDEA)\n",
    "    data = np.load(f'C:/Users/yaras/Documents/Research/Feldman/outerrim/CF3-OuterRim-CF3grouplike-cz-rand/CF3-OuterRim-CF3grouplike-cz-rand-box-{i}.npy')\n",
    "    # glat and glon are in degrees, make unit objects to ease operations\n",
    "    glon, glat = data[: ,10], data[: ,11]\n",
    "    glon = c.Angle(glon, u.degree)\n",
    "    glat = c.Angle(glat, u.degree)\n",
    "                    \n",
    "    # changing range of glon to (-180, 180) instead of (0, 360)\n",
    "    glon = glon.wrap_at('180d', inplace=False)\n",
    "    \n",
    "    # Accounting for zone of avoidance (taking out data points with -5 < glat < 5)\n",
    "    indices = np.where(abs(glat.value) > 5)\n",
    "    glon = glon[indices]\n",
    "    glat = glat[indices]\n",
    "\n",
    "    errors = []\n",
    "\n",
    "    # generating multiple versions of each catalogue\n",
    "    for _ in range(1000):\n",
    "        '''\n",
    "        generating angles of rotation\n",
    "        'angles' will be a tuple with 3 elements (alpha, beta, gamma)\n",
    "        look cell No. 4 (generate angles) for function definition\n",
    "        '''\n",
    "        angles = generate_angles()\n",
    "        \n",
    "        '''\n",
    "        generating an error between 0 and 40% on a galcian distribution\n",
    "        '''\n",
    "        error = np.random.normal() * 0.4\n",
    "        errors.append(error)\n",
    "        # error = 0  # uncomment this to set error to 0\n",
    "        \n",
    "        '''\n",
    "        rotating the bulkflows\n",
    "        including the error\n",
    "        'bulkflow' will be a 1x3 array with the xyz components\n",
    "        of the bulkflow for the respective catalogue\n",
    "        look cell No. 6 (bulkflow rotator) for function definition\n",
    "        '''\n",
    "        bulkflow = bulkflows[:,i]\n",
    "        bulkflow_prime = rotate_bulkflow(bulkflow, angles, error)\n",
    "        \n",
    "        '''\n",
    "        random euler rotation of the data\n",
    "        '''\n",
    "        glonprime, glatprime = rotate(data, angles)\n",
    "        \n",
    "        '''\n",
    "        figure generator\n",
    "        uncomment the following to generate a figure \n",
    "        do NOT uncomment if processing large amounts of data\n",
    "        trust me you WILL regret it\n",
    "        '''\n",
    "        # ------------------------------------------------------\n",
    "        # # making figure\n",
    "        # fig = plt.figure(figsize=(20, 20))\n",
    "        # P.update({'font.size': 18,\n",
    "        #                    'axes.linewidth': 1.5,\n",
    "        #                    'axes.labelweight': 'bold',\n",
    "        #                    })\n",
    "        \n",
    "        # # subplot 1\n",
    "        # ax1 = fig.add_subplot(221, projection='hammer')\n",
    "        # ax1.scatter(glon.radian, glat.radian, marker='.', linewidths=0.001)\n",
    "        # ax1.scatter(glonprime, glatprime, marker='.', linewidths=0.001, color='red')\n",
    "        # ax1.grid(True)\n",
    "        # ax1.title.set_text(f'No. {i}')\n",
    "        \n",
    "        # the angles will be printed\n",
    "        # print('original bulkflow xyz:\\n', bulkflows[:,i])\n",
    "        # print('rotated bulkflow xyz:\\n', bulkflow_prime)\n",
    "        # print('original bulkflow magnitude:\\n', math.sqrt(bulkflows[:,i][0]**2+bulkflows[:,i][1]**2+bulkflows[:,i][2]**2))\n",
    "        # print(f'rotated bulkflow magnitude (with {error=}):\\n', math.sqrt(bulkflow_prime[0]**2+bulkflow_prime[1]**2+bulkflow_prime[2]**2))\n",
    "        \n",
    "        # # subplot 2\n",
    "        # ax2 = fig.add_subplot(222, projection='hammer')\n",
    "        # ax2.scatter(glonprime, glatprime, marker='.', linewidths=0.001, color='red')\n",
    "        \n",
    "        # ax2.grid(True)\n",
    "        # ax2.title.set_text(f'No. {i}')\n",
    "        \n",
    "        # x,y,z = bulkflows[:,i]\n",
    "        # x1,y1,z1 = bulkflow_prime\n",
    "        \n",
    "        # ax = fig.add_subplot(223, projection='3d')\n",
    "        # ax.plot((0, x) ,(0, y),(0, z))\n",
    "        # ax.plot((0, x1) ,(0, y1),(0, z1))\n",
    "        # ax.scatter(x,y,z)\n",
    "        # ax.scatter(x1,y1,z1)\n",
    "        # ax.view_init(-155, 45)\n",
    "\n",
    "        # fig.show()\n",
    "    plt.hist(errors, bins=50)\n",
    "    \n",
    "    "
   ]
  },
  {
   "cell_type": "code",
   "execution_count": 8,
   "metadata": {},
   "outputs": [
    {
     "data": {
      "text/plain": [
       "266.5650512128437"
      ]
     },
     "execution_count": 8,
     "metadata": {},
     "output_type": "execute_result"
    }
   ],
   "source": [
    "def magnitude(x,y,z):\n",
    "    return math.sqrt(x**2 + y**2 + z**2)\n",
    "\n",
    "magnitude(-257.2401123, -26.19958496, -64.7922287)"
   ]
  }
 ],
 "metadata": {
  "interpreter": {
   "hash": "68de672baf2b383e51e9e3e26f5f087e2c70f9ad35b6a5f0811553099bef1a39"
  },
  "kernelspec": {
   "display_name": "Python 3.10.2 64-bit (windows store)",
   "language": "python",
   "name": "python3"
  },
  "language_info": {
   "codemirror_mode": {
    "name": "ipython",
    "version": 3
   },
   "file_extension": ".py",
   "mimetype": "text/x-python",
   "name": "python",
   "nbconvert_exporter": "python",
   "pygments_lexer": "ipython3",
   "version": "3.10.4"
  },
  "orig_nbformat": 4
 },
 "nbformat": 4,
 "nbformat_minor": 2
}
