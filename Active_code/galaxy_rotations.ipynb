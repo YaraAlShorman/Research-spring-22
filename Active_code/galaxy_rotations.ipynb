{
 "cells": [
  {
   "cell_type": "markdown",
   "metadata": {},
   "source": [
    "### Imports"
   ]
  },
  {
   "cell_type": "code",
   "execution_count": 80,
   "metadata": {},
   "outputs": [],
   "source": [
    "# imports\n",
    "import numpy as np\n",
    "from astropy import units as u\n",
    "from astropy import coordinates as c\n",
    "from astropy.cosmology import units as cu\n",
    "import matplotlib.pyplot as plt\n",
    "from matplotlib import rcParams as P\n",
    "from scipy.spatial.transform import Rotation as R\n",
    "import math\n",
    "import random\n"
   ]
  },
  {
   "cell_type": "markdown",
   "metadata": {},
   "source": [
    "### Helper functions"
   ]
  },
  {
   "cell_type": "markdown",
   "metadata": {},
   "source": [
    "#### angle generator"
   ]
  },
  {
   "cell_type": "code",
   "execution_count": 82,
   "metadata": {},
   "outputs": [],
   "source": [
    "def generate_angles():\n",
    "    # generates the 3 needed euler angles at random\n",
    "    # angles\n",
    "    alpha = 2 * np.pi * np.random.random()  #generate random rotation angles\n",
    "    beta = np.pi * np.random.random()\n",
    "    gamma = 2 * np.pi * np.random.random()\n",
    "    \n",
    "    # alpha, beta, gamma = 0.1, 0, 0\n",
    "    \n",
    "    return (alpha, beta, gamma)"
   ]
  },
  {
   "cell_type": "markdown",
   "metadata": {},
   "source": [
    "#### galaxy rotator"
   ]
  },
  {
   "cell_type": "code",
   "execution_count": 83,
   "metadata": {},
   "outputs": [],
   "source": [
    "# This function performs an Euler rotation on the data, returns the new glon and glat\n",
    "# prof. watkins' code (plus some additions of my own)\n",
    "# uses scipy to preform a random euler rotation  \n",
    "def rotate(array, angles):\n",
    "    \n",
    "    # 'angles' tuple must have 3 elements that coorespons to the euler angles of rotation\n",
    "    alpha, beta, gamma = angles\n",
    "    \n",
    "    # data part\n",
    "    glon = array[10] * np.pi / 180\n",
    "    glat = array[11] * np.pi / 180\n",
    "\n",
    "    #make glon and glat into array of positions on the unit sphere\n",
    "    pos = np.array([np.cos(glon) * np.cos(glat),  # alpha\n",
    "                    np.sin(glon) * np.cos(glat),  # beta\n",
    "                    np.sin(glat)])                # gamma\n",
    "\n",
    "    pos = np.transpose(pos)\n",
    "\n",
    "    r = R.from_euler('xzx', [alpha, beta, gamma]) #create the rotation\n",
    "    posprime = r.apply(pos)  #apply the rotation to the vectors\n",
    "\n",
    "    glonprime = np.arctan2(posprime[1], posprime[0]) * 180 / np.pi  #convert back to degrees\n",
    "    # glonprime[glonprime < 0] = 360 + glonprime[glonprime < 0]\n",
    "    if glonprime < 0:\n",
    "        glonprime += 360\n",
    "\n",
    "    glatprime = np.arcsin(posprime[2]) * 180/np.pi\n",
    "    \n",
    "    # glonprime, glatprime = c.Angle(glonprime, u.degree), c.Angle(glatprime, u.degree)\n",
    "    glonprime = c.Angle(glonprime, u.degree)\n",
    "    glatprime = c.Angle(glatprime, u.degree)\n",
    "    \n",
    "    # print(f'{alpha=}, {beta=}, {gamma=}')  # angles of rotation (radians)\n",
    "    glonprime, glatprime = glonprime.wrap_at('180d', inplace=False).radian, glatprime.radian\n",
    "    \n",
    "    return glonprime, glatprime"
   ]
  },
  {
   "cell_type": "markdown",
   "metadata": {},
   "source": [
    "#### bulkflow rotator"
   ]
  },
  {
   "cell_type": "code",
   "execution_count": 84,
   "metadata": {},
   "outputs": [],
   "source": [
    "def rotate_bulkflow(bulkflow, angles: tuple):\n",
    "    # rotates one bulkflow for ONE catalogue at a time, to be used in a loop in sync with the previous rotate function\n",
    "    \n",
    "    # 'angles' tuple must have 3 elements that coorespons to the euler angles of rotation\n",
    "    alpha, beta, gamma = angles\n",
    "    \n",
    "    # rotation part\n",
    "    r = R.from_euler('xzx', [alpha, beta, gamma])\n",
    "    bulkflowprime = r.apply(bulkflow)\n",
    "        \n",
    "    return bulkflowprime  # returns an array of the new components of the new bulkflow"
   ]
  },
  {
   "cell_type": "markdown",
   "metadata": {},
   "source": [
    "#### distance modulus "
   ]
  },
  {
   "cell_type": "code",
   "execution_count": 85,
   "metadata": {},
   "outputs": [],
   "source": [
    "# evaluating distance mod\n",
    "def distance_mod(line, error):\n",
    "    distance = line[7]\n",
    "    return 5 * math.log10(distance) + 25 + error"
   ]
  },
  {
   "cell_type": "markdown",
   "metadata": {},
   "source": [
    "#### Loading, processing, rotating the data"
   ]
  },
  {
   "cell_type": "code",
   "execution_count": 86,
   "metadata": {},
   "outputs": [],
   "source": [
    "bulkflows = np.load('C:/Users/yaras/Documents/Research/Feldman/outerrim/CF3-OuterRim-CF3grouplike-cz-rand/true_bulkflows100.npy')\n",
    "\n",
    "# load the data\n",
    "for i in range(1): # use range(300) to run on all catalogues (BAD IDEA)\n",
    "    data = np.load(f'C:/Users/yaras/Documents/Research/Feldman/outerrim/CF3-OuterRim-CF3grouplike-cz-rand/CF3-OuterRim-CF3grouplike-cz-rand-box-{i}.npy')\n",
    "    for v in range(3):\n",
    "\n",
    "        # all arrays will have size 11132x7\n",
    "        new_cat = np.empty((11132, 7))\n",
    "        \n",
    "        # accounting for zone of avoidance\n",
    "        indices = np.where(abs(data[:,11]) > 5)\n",
    "        data = data[indices]\n",
    "        np.random.shuffle(data)\n",
    "        data = data[:11132]  # 11132 is the size of the smallest catalogue\n",
    "        \n",
    "\n",
    "        # generating multiple versions of each catalogue\n",
    "        for line in data:\n",
    "            '''\n",
    "            generating angles of rotation\n",
    "            'angles' will be a tuple with 3 elements (alpha, beta, gamma)\n",
    "            look cell No. 4 (generate angles) for function definition\n",
    "            '''\n",
    "            angles = generate_angles()\n",
    "            \n",
    "            \n",
    "            '''\n",
    "            rotating the bulkflows\n",
    "            'bulkflow' will be a 1x3 array with the xyz components\n",
    "            of the bulkflow for the respective catalogue\n",
    "            look cell No. 6 (bulkflow rotator) for function definition\n",
    "            '''\n",
    "            bulkflow = bulkflows[:,i]\n",
    "            bulkflow_prime = rotate_bulkflow(bulkflow, angles)\n",
    "            \n",
    "            '''\n",
    "            euler rotation of the data using the generated angles\n",
    "            '''\n",
    "            glonprime, glatprime = rotate(line, angles)\n",
    "            \n",
    "            '''\n",
    "            generating an error between 0 and 40% on a galcian distribution\n",
    "            '''\n",
    "            error = np.random.normal() * 0.4\n",
    "            # error = 0  # uncomment this to set error to 0\n",
    "            \n",
    "            '''\n",
    "            distance modulus\n",
    "            '''\n",
    "            d_mod = distance_mod(line, error)\n",
    "            \n",
    "            '''\n",
    "            redshift\n",
    "            '''\n",
    "            redshfit = line[6]\n",
    "            \n",
    "            '''\n",
    "            writing the new line\n",
    "            '''\n",
    "            new_array = np.array([redshfit,   # redshift\n",
    "                                d_mod,      # distance modulus\n",
    "                                glonprime,  # galactic longitude prime\n",
    "                                glatprime,  # galactic latitude prime\n",
    "                                bulkflow_prime[0],   # bulkflow x\n",
    "                                bulkflow_prime[1],   # bulkflow y\n",
    "                                bulkflow_prime[2]])  # bulkflow z\n",
    "            \n",
    "            np.append(new_cat, [new_array], axis=0)\n",
    "            \n",
    "        # with open(f'C:/Users/yaras/Documents/Research/Feldman/rotated-outerrim-cz-rand/rotated-{i}-version-{v}.npy', 'w') as fhand:\n",
    "        #     for line in new_cat:\n",
    "        #         for element in line:\n",
    "        #             fhand.write(f'{element}')\n",
    "        #         fhand.write()\n",
    "        np.save(f'C:/Users/yaras/Documents/Research/Feldman/rotated-outerrim-cz-rand/rotated-{i}-version-{v}.npy', new_cat)\n",
    "            \n",
    "    \n",
    "\n",
    "\n",
    "    "
   ]
  },
  {
   "cell_type": "markdown",
   "metadata": {},
   "source": [
    "#### visualizing the data"
   ]
  },
  {
   "cell_type": "code",
   "execution_count": null,
   "metadata": {},
   "outputs": [],
   "source": [
    "# for generating figures\n",
    "# for i in range(1):\n",
    "# C:/Users/yaras/Documents/Research/Feldman/outerrim/CF3-OuterRim-CF3grouplike-cz-rand/CF3-OuterRim-CF3grouplike-cz-rand-box-{i}.npy\n",
    "#     data = np.load(f'INCLUDE PATH HERE')\n",
    "\n",
    "    # # processing the ORIGINAL data, we dont need this for making the new catalogues\n",
    "    # # ------------------------------------\n",
    "    # # glat and glon are in degrees, make unit objects to ease operations\n",
    "    # glon, glat = data[: ,10], data[: ,11]\n",
    "    # glon = c.Angle(glon, u.degree)\n",
    "    # glat = c.Angle(glat, u.degree)\n",
    "                \n",
    "    # # changing range of glon to (-180, 180) instead of (0, 360)\n",
    "    # glon = glon.wrap_at('180d', inplace=False)\n",
    "\n",
    "    # # Accounting for zone of avoidance (taking out data points with -5 < glat < 5)\n",
    "    # indices = np.where(abs(glat.value) > 5)\n",
    "    # glon = glon[indices]\n",
    "    # glat = glat[indices]\n",
    "    # # -------------------------------------\n",
    "\n",
    "    # # making figure\n",
    "    # fig = plt.figure(figsize=(20, 20))\n",
    "    # P.update({'font.size': 18,\n",
    "    #                    'axes.linewidth': 1.5,\n",
    "    #                    'axes.labelweight': 'bold',\n",
    "    #                    })\n",
    "\n",
    "    # # subplot 1\n",
    "    # ax1 = fig.add_subplot(221, projection='hammer')\n",
    "    # ax1.scatter(glon.radian, glat.radian, marker='.', linewidths=0.001)\n",
    "    # ax1.scatter(glonprime, glatprime, marker='.', linewidths=0.001, color='red')\n",
    "    # ax1.grid(True)\n",
    "    # ax1.title.set_text(f'No. {i}')\n",
    "\n",
    "    # the angles will be printed\n",
    "    # print('original bulkflow xyz:\\n', bulkflows[:,i])\n",
    "    # print('rotated bulkflow xyz:\\n', bulkflow_prime)\n",
    "    # print('original bulkflow magnitude:\\n', math.sqrt(bulkflows[:,i][0]**2+bulkflows[:,i][1]**2+bulkflows[:,i][2]**2))\n",
    "    # print(f'rotated bulkflow magnitude (with {error=}):\\n', math.sqrt(bulkflow_prime[0]**2+bulkflow_prime[1]**2+bulkflow_prime[2]**2))\n",
    "\n",
    "    # # subplot 2\n",
    "    # ax2 = fig.add_subplot(222, projection='hammer')\n",
    "    # ax2.scatter(glonprime, glatprime, marker='.', linewidths=0.001, color='red')\n",
    "        \n",
    "    # ax2.grid(True)\n",
    "    # ax2.title.set_text(f'No. {i}')\n",
    "\n",
    "    # x,y,z = bulkflows[:,i]\n",
    "    # x1,y1,z1 = bulkflow_prime\n",
    "\n",
    "    # ax = fig.add_subplot(223, projection='3d')\n",
    "    # ax.plot((0, x) ,(0, y),(0, z))\n",
    "    # ax.plot((0, x1) ,(0, y1),(0, z1))\n",
    "    # ax.scatter(x,y,z)\n",
    "    # ax.scatter(x1,y1,z1)\n",
    "    # ax.view_init(-155, 45)\n",
    "\n",
    "    # fig.show()"
   ]
  },
  {
   "cell_type": "markdown",
   "metadata": {},
   "source": [
    "#### misc"
   ]
  },
  {
   "cell_type": "code",
   "execution_count": 87,
   "metadata": {},
   "outputs": [],
   "source": [
    "# print(data)\n",
    "# np.random.shuffle(data)\n",
    "# print(data)\n",
    "# print(len(data[:11132]))"
   ]
  },
  {
   "cell_type": "code",
   "execution_count": 88,
   "metadata": {},
   "outputs": [
    {
     "name": "stdout",
     "output_type": "stream",
     "text": [
      "11809\n",
      "11132\n"
     ]
    }
   ],
   "source": [
    "# this cell helped me find the smallest and largest catalogues\n",
    "print(max([len(np.load(f'C:/Users/yaras/Documents/Research/Feldman/outerrim/CF3-OuterRim-CF3grouplike-cz-rand/CF3-OuterRim-CF3grouplike-cz-rand-box-{i}.npy')) for i in range(300)]))\n",
    "print(min([len(np.load(f'C:/Users/yaras/Documents/Research/Feldman/outerrim/CF3-OuterRim-CF3grouplike-cz-rand/CF3-OuterRim-CF3grouplike-cz-rand-box-{i}.npy')) for i in range(300)]))\n",
    "# max: 11809\n",
    "# min: 11132"
   ]
  }
 ],
 "metadata": {
  "interpreter": {
   "hash": "68de672baf2b383e51e9e3e26f5f087e2c70f9ad35b6a5f0811553099bef1a39"
  },
  "kernelspec": {
   "display_name": "Python 3.10.2 64-bit (windows store)",
   "language": "python",
   "name": "python3"
  },
  "language_info": {
   "codemirror_mode": {
    "name": "ipython",
    "version": 3
   },
   "file_extension": ".py",
   "mimetype": "text/x-python",
   "name": "python",
   "nbconvert_exporter": "python",
   "pygments_lexer": "ipython3",
   "version": "3.10.4"
  },
  "orig_nbformat": 4
 },
 "nbformat": 4,
 "nbformat_minor": 2
}
