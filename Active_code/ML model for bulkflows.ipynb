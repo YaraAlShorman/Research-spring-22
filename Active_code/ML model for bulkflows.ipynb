{
 "cells": [
  {
   "cell_type": "code",
   "execution_count": 13,
   "metadata": {},
   "outputs": [],
   "source": [
    "# This code is written by Yara Al-Shorman\n",
    "# Date created: May 18 2022\n",
    "# Last modified: May 22 2022\n",
    "# Github repo: https://github.com/YaraAlShorman/Research-spring-22\n",
    "# The purpose of this code is to predict the bulkflows for a large given set of galaxies (using machine learning)"
   ]
  },
  {
   "cell_type": "markdown",
   "metadata": {},
   "source": [
    "### imports"
   ]
  },
  {
   "cell_type": "code",
   "execution_count": 34,
   "metadata": {},
   "outputs": [],
   "source": [
    "# imports\n",
    "import numpy as np\n",
    "import tensorflow as tf\n",
    "from sklearn.preprocessing import MinMaxScaler\n",
    "# import matplotlib.pyplot as plt"
   ]
  },
  {
   "cell_type": "markdown",
   "metadata": {},
   "source": [
    "### data preprocessing"
   ]
  },
  {
   "cell_type": "code",
   "execution_count": 22,
   "metadata": {},
   "outputs": [],
   "source": [
    "# stacking all of the data into one humungous tensor\n",
    "# I am using tensors because they can be ragged and can be stacked\n",
    "# these means we won't have to cut off our data to standardize array sizes\n",
    "data = np.load(f'C:/Users/yaras/Documents/Research/Feldman/rotated-outerrim-cz-rand/rotated-0-error-40.npy.npz')\n",
    "input_data = tf.convert_to_tensor(data['data'])\n",
    "scaler = MinMaxScaler()\n",
    "scaler.fit(input_data)\n",
    "input_data = scaler.transform(input_data)\n",
    "input_data = tf.expand_dims(input_data, axis=0)\n",
    "input_data = tf.RaggedTensor.from_tensor(input_data)\n",
    "\n",
    "output_data = tf.convert_to_tensor(data['header'])\n",
    "output_data = tf.expand_dims(output_data, axis=0)\n",
    "# output_data = tf.RaggedTensor.from_tensor(output_data)\n",
    "\n",
    "for i in range(1,10): # limit 3000\n",
    "        array_data = np.load(f'C:/Users/yaras/Documents/Research/Feldman/rotated-outerrim-cz-rand/rotated-{i}-error-40.npy.npz')\n",
    "        # 'data' data\n",
    "        temp = tf.convert_to_tensor(array_data['data'], dtype='float64')\n",
    "        scaler = MinMaxScaler()\n",
    "        scaler.fit(temp)\n",
    "        temp = scaler.transform(temp)\n",
    "        temp = tf.expand_dims(temp, axis=0)  # dimensions have to be expandad to be able to concat along the outer-dimension \n",
    "        input_data = tf.concat([input_data, temp], axis=0)  # concat adds to existing dimensions, does not create new ones\n",
    "        # 'header' data (bulkflows)\n",
    "        temp = array_data['header']\n",
    "        temp = np.expand_dims(temp, axis=0)\n",
    "        output_data = np.concatenate([output_data, temp], axis=0)\n",
    "        \n",
    "# next is scaling"
   ]
  },
  {
   "cell_type": "code",
   "execution_count": 31,
   "metadata": {},
   "outputs": [],
   "source": [
    "# normalizing/scaling the data\n",
    "scaler = MinMaxScaler()\n",
    "scaler.fit(output_data)\n",
    "output_data = scaler.transform(output_data)\n",
    "output_data = tf.convert_to_tensor(output_data)\n",
    "\n",
    "# data is ready"
   ]
  },
  {
   "cell_type": "code",
   "execution_count": 39,
   "metadata": {},
   "outputs": [],
   "source": [
    "def train_test_split_tensors(X, y, **options):\n",
    "    \"\"\"\n",
    "    encapsulation for the sklearn.model_selection.train_test_split function\n",
    "    in order to split tensors objects and return tensors as output\n",
    "\n",
    "    :param X: tensorflow.Tensor object\n",
    "    :param y: tensorflow.Tensor object\n",
    "    :dict **options: typical sklearn options are available, such as test_size and train_size\n",
    "    \"\"\"\n",
    "\n",
    "    from sklearn.model_selection import train_test_split\n",
    "\n",
    "    X_train, X_test, y_train, y_test = train_test_split(np.asarray(X), np.asarray(y), **options)\n",
    "\n",
    "    X_train, X_test = tf.constant(X_train), tf.constant(X_test)\n",
    "    y_train, y_test = tf.constant(y_train), tf.constant(y_test)\n",
    "\n",
    "    del(train_test_split)\n",
    "\n",
    "    return X_train, X_test, y_train, y_test"
   ]
  },
  {
   "cell_type": "code",
   "execution_count": 40,
   "metadata": {},
   "outputs": [
    {
     "ename": "TypeError",
     "evalue": "Singleton array array(<tf.RaggedTensor [[[0.04476167604186792, 0.4319348470437463, 0.6600869858736284,\n   0.10562281276603319],\n  [0.04470801316027669, 0.2964123450175338, 0.07774368327560849,\n   0.45829554731734073],\n  [0.03172237834438992, 0.3748306898537166, 0.5074990849844845,\n   0.07828420800789393],\n  ...,\n  [0.9203440848389758, 0.9166299008698995, 0.9097912849111669,\n   0.46985195993497325],\n  [0.9973402144941484, 0.9373032164146093, 0.03445411172523899,\n   0.13522825316059572],\n  [1.0, 0.9376738124403152, 0.8614850196591373, 0.15025120160109273]],\n [[0.04476167604186792, 0.35549937554079314, 0.11415318614489606,\n   0.2616085383021353],\n  [0.03172237834438992, 0.35488049713897984, 0.11140956913496375,\n   0.1683793761334571],\n  [0.04253692822809806, 0.313280451454661, 0.6326202464701759,\n   0.1588511671586666],\n  ...,\n  [0.9102376093501364, 0.9098281299488606, 0.741198125000201,\n   0.30017373612523124],\n  [0.9973402144941484, 0.9216550949622406, 0.27213734061030426,\n   0.27830875813205336],\n  [1.0, 0.9558731697428202, 0.1940244049557851, 0.3545961199969835]],\n [[0.04476167604186792, 0.3196367976397032, 0.9130267340038772,\n   0.7966851751156288],\n  [0.04470801316027669, 0.2284764641929149, 0.15972317664037589,\n   0.4240256444944078],\n  [0.03172237834438992, 0.2992224102108061, 0.9153222036717249,\n   0.7034497600504326],\n  ...,\n  [0.9102376093501364, 0.9402396912503876, 0.8089464905308076,\n   0.3237117017379686],\n  [0.9973402144941484, 0.979874900638495, 0.04955081096588493,\n   0.6725864980281844],\n  [1.0, 0.9664629965211011, 0.053321559880914415, 0.8237698281916794]],\n [[0.04476167604186792, 0.36012233281780803, 0.13103016470734263,\n   0.7145934026031384],\n  [0.04470801316027669, 0.2769216248057358, 0.6480294341489201,\n   0.7407476689313115],\n  [0.03172237834438992, 0.3562910033672755, 0.18969825676793461,\n   0.7302267796632919],\n  ...,\n  [0.9102376093501364, 0.8962580121375718, 0.3521967418883952,\n   0.42620960835882216],\n  [0.9973402144941484, 0.8939487646532025, 0.11304839376406023,\n   0.9485280573400574],\n  [1.0, 0.9213137103176692, 0.03571380939654273, 0.8065934418548002]],\n [[0.04476167604186792, 0.3839275087359342, 0.21026212493907542,\n   0.42214979035263756],\n  [0.04470801316027669, 0.3317848331679407, 0.9132596360121805,\n   0.3782634451199948],\n  [0.04253692822809806, 0.34285204138544145, 0.06483000342731782,\n   0.751883862196961],\n  ...,\n  [0.9102376093501364, 0.9592404877001837, 0.16964643152359848,\n   0.9284803197151871],\n  [0.9973402144941484, 0.9410588429602806, 0.0911742109866846,\n   0.35768668067225723],\n  [1.0, 0.8888228363210113, 0.16785868250260066, 0.2801469583893811]],\n [[0.04476167604186792, 0.37949106705094904, 0.0945291810014463,\n   0.5927720979168991],\n  [0.04470801316027669, 0.23527688172546135, 0.5720392669425723,\n   0.8586121698128514],\n  [0.03172237834438992, 0.34230884209742873, 0.1426245913654885,\n   0.6016329788833947],\n  ...,\n  [0.9102376093501364, 0.9234944213963323, 0.32485625434201015,\n   0.3641541755172344],\n  [0.9973402144941484, 0.9231479933972699, 0.11669997517337549,\n   0.8249036581802016],\n  [1.0, 0.9355648623882642, 0.03677012595262741, 0.7162842934067022]],\n [[0.04476167604186792, 0.4256653570102338, 0.22430811160017466,\n   0.6119172409789656],\n  [0.04470801316027669, 0.3460209453276666, 0.42286311173742747,\n   0.13609545105152715],\n  [0.03172237834438992, 0.40414054758960427, 0.18661195118566337,\n   0.5540767724161276],\n  ...,\n  [0.9371342293961398, 0.9097622698097769, 0.08523832433000345,\n   0.1336911308482866],\n  [0.9973402144941484, 0.901550977555909, 0.26638835568549735,\n   0.3914512691276043],\n  [1.0, 0.9276180622354988, 0.2954059949948066, 0.5321616920329105]],\n [[0.04476167604186792, 0.3941314336850845, 0.7706529306830818,\n   0.7021741919683584],\n  [0.04470801316027669, 0.3203773599777975, 0.5037745456810879,\n   0.45145646007008383],\n  [0.03172237834438992, 0.2902176011593989, 0.7509313559599824,\n   0.7909652925082666],\n  ...,\n  [0.9102376093501364, 0.9264160675126405, 0.19059688660319457,\n   0.7847580354191271],\n  [0.9973402144941484, 0.9331055660885013, 0.6392277966017237,\n   0.6426383736264991],\n  [1.0, 0.9307749669095937, 0.7122177860947065, 0.5816677191641729]],\n [[0.04476167604186792, 0.3761044400965412, 0.2948071591983945,\n   0.7757858779881248],\n  [0.03172237834438992, 0.3677164921562901, 0.31026058040246884,\n   0.6851692458250461],\n  [0.04253692822809806, 0.3731258462277167, 0.33979003951909437,\n   0.35966765462511086],\n  ...,\n  [0.9102376093501364, 0.9138068683539999, 0.23300940900771433,\n   0.2789733350293794],\n  [0.9973402144941484, 0.9001145951175373, 0.4462894484779493,\n   0.7006424502097648],\n  [1.0, 0.9680607616363606, 0.4224840370213973, 0.8493486530177722]],\n [[0.04476167604186792, 0.42042858714206455, 0.5642182038925748,\n   0.6983340284169863],\n  [0.04470801316027669, 0.3530431745005731, 0.15846862419825208,\n   0.7127967042244923],\n  [0.03172237834438992, 0.40580997805212293, 0.6151754583354292,\n   0.7487436171514269],\n  ...,\n  [0.9203440848389758, 0.9318805269950832, 0.3175406733368905,\n   0.5380717488119464],\n  [0.9973402144941484, 0.9322191436791121, 0.4348470125189277,\n   0.8830095468838342],\n  [1.0, 0.8839729434841583, 0.46431531657742897, 0.734822831930793]]]>,\n      dtype=object) cannot be considered a valid collection.",
     "output_type": "error",
     "traceback": [
      "\u001b[1;31m---------------------------------------------------------------------------\u001b[0m",
      "\u001b[1;31mTypeError\u001b[0m                                 Traceback (most recent call last)",
      "\u001b[1;32mc:\\Users\\yaras\\Documents\\Research\\Feldman\\MLM\\Research-spring-22\\Active_code\\ML model for bulkflows.ipynb Cell 8'\u001b[0m in \u001b[0;36m<cell line: 2>\u001b[1;34m()\u001b[0m\n\u001b[0;32m      <a href='vscode-notebook-cell:/c%3A/Users/yaras/Documents/Research/Feldman/MLM/Research-spring-22/Active_code/ML%20model%20for%20bulkflows.ipynb#ch0000021?line=0'>1</a>\u001b[0m \u001b[39m# train-test splitting\u001b[39;00m\n\u001b[1;32m----> <a href='vscode-notebook-cell:/c%3A/Users/yaras/Documents/Research/Feldman/MLM/Research-spring-22/Active_code/ML%20model%20for%20bulkflows.ipynb#ch0000021?line=1'>2</a>\u001b[0m train_test_split_tensors(input_data, output_data, train_size\u001b[39m=\u001b[39;49m\u001b[39m0.85\u001b[39;49m, random_state\u001b[39m=\u001b[39;49m\u001b[39m0\u001b[39;49m, shuffle\u001b[39m=\u001b[39;49m\u001b[39mTrue\u001b[39;49;00m)\n",
      "\u001b[1;32mc:\\Users\\yaras\\Documents\\Research\\Feldman\\MLM\\Research-spring-22\\Active_code\\ML model for bulkflows.ipynb Cell 7'\u001b[0m in \u001b[0;36mtrain_test_split_tensors\u001b[1;34m(X, y, **options)\u001b[0m\n\u001b[0;32m      <a href='vscode-notebook-cell:/c%3A/Users/yaras/Documents/Research/Feldman/MLM/Research-spring-22/Active_code/ML%20model%20for%20bulkflows.ipynb#ch0000022?line=1'>2</a>\u001b[0m \u001b[39m\"\"\"\u001b[39;00m\n\u001b[0;32m      <a href='vscode-notebook-cell:/c%3A/Users/yaras/Documents/Research/Feldman/MLM/Research-spring-22/Active_code/ML%20model%20for%20bulkflows.ipynb#ch0000022?line=2'>3</a>\u001b[0m \u001b[39mencapsulation for the sklearn.model_selection.train_test_split function\u001b[39;00m\n\u001b[0;32m      <a href='vscode-notebook-cell:/c%3A/Users/yaras/Documents/Research/Feldman/MLM/Research-spring-22/Active_code/ML%20model%20for%20bulkflows.ipynb#ch0000022?line=3'>4</a>\u001b[0m \u001b[39min order to split tensors objects and return tensors as output\u001b[39;00m\n\u001b[1;32m   (...)\u001b[0m\n\u001b[0;32m      <a href='vscode-notebook-cell:/c%3A/Users/yaras/Documents/Research/Feldman/MLM/Research-spring-22/Active_code/ML%20model%20for%20bulkflows.ipynb#ch0000022?line=7'>8</a>\u001b[0m \u001b[39m:dict **options: typical sklearn options are available, such as test_size and train_size\u001b[39;00m\n\u001b[0;32m      <a href='vscode-notebook-cell:/c%3A/Users/yaras/Documents/Research/Feldman/MLM/Research-spring-22/Active_code/ML%20model%20for%20bulkflows.ipynb#ch0000022?line=8'>9</a>\u001b[0m \u001b[39m\"\"\"\u001b[39;00m\n\u001b[0;32m     <a href='vscode-notebook-cell:/c%3A/Users/yaras/Documents/Research/Feldman/MLM/Research-spring-22/Active_code/ML%20model%20for%20bulkflows.ipynb#ch0000022?line=10'>11</a>\u001b[0m \u001b[39mfrom\u001b[39;00m \u001b[39msklearn\u001b[39;00m\u001b[39m.\u001b[39;00m\u001b[39mmodel_selection\u001b[39;00m \u001b[39mimport\u001b[39;00m train_test_split\n\u001b[1;32m---> <a href='vscode-notebook-cell:/c%3A/Users/yaras/Documents/Research/Feldman/MLM/Research-spring-22/Active_code/ML%20model%20for%20bulkflows.ipynb#ch0000022?line=12'>13</a>\u001b[0m X_train, X_test, y_train, y_test \u001b[39m=\u001b[39m train_test_split(np\u001b[39m.\u001b[39masarray(X), np\u001b[39m.\u001b[39masarray(y), \u001b[39m*\u001b[39m\u001b[39m*\u001b[39moptions)\n\u001b[0;32m     <a href='vscode-notebook-cell:/c%3A/Users/yaras/Documents/Research/Feldman/MLM/Research-spring-22/Active_code/ML%20model%20for%20bulkflows.ipynb#ch0000022?line=14'>15</a>\u001b[0m X_train, X_test \u001b[39m=\u001b[39m tf\u001b[39m.\u001b[39mconstant(X_train), tf\u001b[39m.\u001b[39mconstant(X_test)\n\u001b[0;32m     <a href='vscode-notebook-cell:/c%3A/Users/yaras/Documents/Research/Feldman/MLM/Research-spring-22/Active_code/ML%20model%20for%20bulkflows.ipynb#ch0000022?line=15'>16</a>\u001b[0m y_train, y_test \u001b[39m=\u001b[39m tf\u001b[39m.\u001b[39mconstant(y_train), tf\u001b[39m.\u001b[39mconstant(y_test)\n",
      "File \u001b[1;32m~\\AppData\\Local\\Packages\\PythonSoftwareFoundation.Python.3.10_qbz5n2kfra8p0\\LocalCache\\local-packages\\Python310\\site-packages\\sklearn\\model_selection\\_split.py:2417\u001b[0m, in \u001b[0;36mtrain_test_split\u001b[1;34m(test_size, train_size, random_state, shuffle, stratify, *arrays)\u001b[0m\n\u001b[0;32m   <a href='file:///c%3A/Users/yaras/AppData/Local/Packages/PythonSoftwareFoundation.Python.3.10_qbz5n2kfra8p0/LocalCache/local-packages/Python310/site-packages/sklearn/model_selection/_split.py?line=2413'>2414</a>\u001b[0m \u001b[39mif\u001b[39;00m n_arrays \u001b[39m==\u001b[39m \u001b[39m0\u001b[39m:\n\u001b[0;32m   <a href='file:///c%3A/Users/yaras/AppData/Local/Packages/PythonSoftwareFoundation.Python.3.10_qbz5n2kfra8p0/LocalCache/local-packages/Python310/site-packages/sklearn/model_selection/_split.py?line=2414'>2415</a>\u001b[0m     \u001b[39mraise\u001b[39;00m \u001b[39mValueError\u001b[39;00m(\u001b[39m\"\u001b[39m\u001b[39mAt least one array required as input\u001b[39m\u001b[39m\"\u001b[39m)\n\u001b[1;32m-> <a href='file:///c%3A/Users/yaras/AppData/Local/Packages/PythonSoftwareFoundation.Python.3.10_qbz5n2kfra8p0/LocalCache/local-packages/Python310/site-packages/sklearn/model_selection/_split.py?line=2416'>2417</a>\u001b[0m arrays \u001b[39m=\u001b[39m indexable(\u001b[39m*\u001b[39;49marrays)\n\u001b[0;32m   <a href='file:///c%3A/Users/yaras/AppData/Local/Packages/PythonSoftwareFoundation.Python.3.10_qbz5n2kfra8p0/LocalCache/local-packages/Python310/site-packages/sklearn/model_selection/_split.py?line=2418'>2419</a>\u001b[0m n_samples \u001b[39m=\u001b[39m _num_samples(arrays[\u001b[39m0\u001b[39m])\n\u001b[0;32m   <a href='file:///c%3A/Users/yaras/AppData/Local/Packages/PythonSoftwareFoundation.Python.3.10_qbz5n2kfra8p0/LocalCache/local-packages/Python310/site-packages/sklearn/model_selection/_split.py?line=2419'>2420</a>\u001b[0m n_train, n_test \u001b[39m=\u001b[39m _validate_shuffle_split(\n\u001b[0;32m   <a href='file:///c%3A/Users/yaras/AppData/Local/Packages/PythonSoftwareFoundation.Python.3.10_qbz5n2kfra8p0/LocalCache/local-packages/Python310/site-packages/sklearn/model_selection/_split.py?line=2420'>2421</a>\u001b[0m     n_samples, test_size, train_size, default_test_size\u001b[39m=\u001b[39m\u001b[39m0.25\u001b[39m\n\u001b[0;32m   <a href='file:///c%3A/Users/yaras/AppData/Local/Packages/PythonSoftwareFoundation.Python.3.10_qbz5n2kfra8p0/LocalCache/local-packages/Python310/site-packages/sklearn/model_selection/_split.py?line=2421'>2422</a>\u001b[0m )\n",
      "File \u001b[1;32m~\\AppData\\Local\\Packages\\PythonSoftwareFoundation.Python.3.10_qbz5n2kfra8p0\\LocalCache\\local-packages\\Python310\\site-packages\\sklearn\\utils\\validation.py:378\u001b[0m, in \u001b[0;36mindexable\u001b[1;34m(*iterables)\u001b[0m\n\u001b[0;32m    <a href='file:///c%3A/Users/yaras/AppData/Local/Packages/PythonSoftwareFoundation.Python.3.10_qbz5n2kfra8p0/LocalCache/local-packages/Python310/site-packages/sklearn/utils/validation.py?line=358'>359</a>\u001b[0m \u001b[39m\"\"\"Make arrays indexable for cross-validation.\u001b[39;00m\n\u001b[0;32m    <a href='file:///c%3A/Users/yaras/AppData/Local/Packages/PythonSoftwareFoundation.Python.3.10_qbz5n2kfra8p0/LocalCache/local-packages/Python310/site-packages/sklearn/utils/validation.py?line=359'>360</a>\u001b[0m \n\u001b[0;32m    <a href='file:///c%3A/Users/yaras/AppData/Local/Packages/PythonSoftwareFoundation.Python.3.10_qbz5n2kfra8p0/LocalCache/local-packages/Python310/site-packages/sklearn/utils/validation.py?line=360'>361</a>\u001b[0m \u001b[39mChecks consistent length, passes through None, and ensures that everything\u001b[39;00m\n\u001b[1;32m   (...)\u001b[0m\n\u001b[0;32m    <a href='file:///c%3A/Users/yaras/AppData/Local/Packages/PythonSoftwareFoundation.Python.3.10_qbz5n2kfra8p0/LocalCache/local-packages/Python310/site-packages/sklearn/utils/validation.py?line=373'>374</a>\u001b[0m \u001b[39m    sparse matrix, or dataframe) or `None`.\u001b[39;00m\n\u001b[0;32m    <a href='file:///c%3A/Users/yaras/AppData/Local/Packages/PythonSoftwareFoundation.Python.3.10_qbz5n2kfra8p0/LocalCache/local-packages/Python310/site-packages/sklearn/utils/validation.py?line=374'>375</a>\u001b[0m \u001b[39m\"\"\"\u001b[39;00m\n\u001b[0;32m    <a href='file:///c%3A/Users/yaras/AppData/Local/Packages/PythonSoftwareFoundation.Python.3.10_qbz5n2kfra8p0/LocalCache/local-packages/Python310/site-packages/sklearn/utils/validation.py?line=376'>377</a>\u001b[0m result \u001b[39m=\u001b[39m [_make_indexable(X) \u001b[39mfor\u001b[39;00m X \u001b[39min\u001b[39;00m iterables]\n\u001b[1;32m--> <a href='file:///c%3A/Users/yaras/AppData/Local/Packages/PythonSoftwareFoundation.Python.3.10_qbz5n2kfra8p0/LocalCache/local-packages/Python310/site-packages/sklearn/utils/validation.py?line=377'>378</a>\u001b[0m check_consistent_length(\u001b[39m*\u001b[39;49mresult)\n\u001b[0;32m    <a href='file:///c%3A/Users/yaras/AppData/Local/Packages/PythonSoftwareFoundation.Python.3.10_qbz5n2kfra8p0/LocalCache/local-packages/Python310/site-packages/sklearn/utils/validation.py?line=378'>379</a>\u001b[0m \u001b[39mreturn\u001b[39;00m result\n",
      "File \u001b[1;32m~\\AppData\\Local\\Packages\\PythonSoftwareFoundation.Python.3.10_qbz5n2kfra8p0\\LocalCache\\local-packages\\Python310\\site-packages\\sklearn\\utils\\validation.py:329\u001b[0m, in \u001b[0;36mcheck_consistent_length\u001b[1;34m(*arrays)\u001b[0m\n\u001b[0;32m    <a href='file:///c%3A/Users/yaras/AppData/Local/Packages/PythonSoftwareFoundation.Python.3.10_qbz5n2kfra8p0/LocalCache/local-packages/Python310/site-packages/sklearn/utils/validation.py?line=317'>318</a>\u001b[0m \u001b[39mdef\u001b[39;00m \u001b[39mcheck_consistent_length\u001b[39m(\u001b[39m*\u001b[39marrays):\n\u001b[0;32m    <a href='file:///c%3A/Users/yaras/AppData/Local/Packages/PythonSoftwareFoundation.Python.3.10_qbz5n2kfra8p0/LocalCache/local-packages/Python310/site-packages/sklearn/utils/validation.py?line=318'>319</a>\u001b[0m     \u001b[39m\"\"\"Check that all arrays have consistent first dimensions.\u001b[39;00m\n\u001b[0;32m    <a href='file:///c%3A/Users/yaras/AppData/Local/Packages/PythonSoftwareFoundation.Python.3.10_qbz5n2kfra8p0/LocalCache/local-packages/Python310/site-packages/sklearn/utils/validation.py?line=319'>320</a>\u001b[0m \n\u001b[0;32m    <a href='file:///c%3A/Users/yaras/AppData/Local/Packages/PythonSoftwareFoundation.Python.3.10_qbz5n2kfra8p0/LocalCache/local-packages/Python310/site-packages/sklearn/utils/validation.py?line=320'>321</a>\u001b[0m \u001b[39m    Checks whether all objects in arrays have the same shape or length.\u001b[39;00m\n\u001b[1;32m   (...)\u001b[0m\n\u001b[0;32m    <a href='file:///c%3A/Users/yaras/AppData/Local/Packages/PythonSoftwareFoundation.Python.3.10_qbz5n2kfra8p0/LocalCache/local-packages/Python310/site-packages/sklearn/utils/validation.py?line=325'>326</a>\u001b[0m \u001b[39m        Objects that will be checked for consistent length.\u001b[39;00m\n\u001b[0;32m    <a href='file:///c%3A/Users/yaras/AppData/Local/Packages/PythonSoftwareFoundation.Python.3.10_qbz5n2kfra8p0/LocalCache/local-packages/Python310/site-packages/sklearn/utils/validation.py?line=326'>327</a>\u001b[0m \u001b[39m    \"\"\"\u001b[39;00m\n\u001b[1;32m--> <a href='file:///c%3A/Users/yaras/AppData/Local/Packages/PythonSoftwareFoundation.Python.3.10_qbz5n2kfra8p0/LocalCache/local-packages/Python310/site-packages/sklearn/utils/validation.py?line=328'>329</a>\u001b[0m     lengths \u001b[39m=\u001b[39m [_num_samples(X) \u001b[39mfor\u001b[39;00m X \u001b[39min\u001b[39;00m arrays \u001b[39mif\u001b[39;00m X \u001b[39mis\u001b[39;00m \u001b[39mnot\u001b[39;00m \u001b[39mNone\u001b[39;00m]\n\u001b[0;32m    <a href='file:///c%3A/Users/yaras/AppData/Local/Packages/PythonSoftwareFoundation.Python.3.10_qbz5n2kfra8p0/LocalCache/local-packages/Python310/site-packages/sklearn/utils/validation.py?line=329'>330</a>\u001b[0m     uniques \u001b[39m=\u001b[39m np\u001b[39m.\u001b[39munique(lengths)\n\u001b[0;32m    <a href='file:///c%3A/Users/yaras/AppData/Local/Packages/PythonSoftwareFoundation.Python.3.10_qbz5n2kfra8p0/LocalCache/local-packages/Python310/site-packages/sklearn/utils/validation.py?line=330'>331</a>\u001b[0m     \u001b[39mif\u001b[39;00m \u001b[39mlen\u001b[39m(uniques) \u001b[39m>\u001b[39m \u001b[39m1\u001b[39m:\n",
      "File \u001b[1;32m~\\AppData\\Local\\Packages\\PythonSoftwareFoundation.Python.3.10_qbz5n2kfra8p0\\LocalCache\\local-packages\\Python310\\site-packages\\sklearn\\utils\\validation.py:329\u001b[0m, in \u001b[0;36m<listcomp>\u001b[1;34m(.0)\u001b[0m\n\u001b[0;32m    <a href='file:///c%3A/Users/yaras/AppData/Local/Packages/PythonSoftwareFoundation.Python.3.10_qbz5n2kfra8p0/LocalCache/local-packages/Python310/site-packages/sklearn/utils/validation.py?line=317'>318</a>\u001b[0m \u001b[39mdef\u001b[39;00m \u001b[39mcheck_consistent_length\u001b[39m(\u001b[39m*\u001b[39marrays):\n\u001b[0;32m    <a href='file:///c%3A/Users/yaras/AppData/Local/Packages/PythonSoftwareFoundation.Python.3.10_qbz5n2kfra8p0/LocalCache/local-packages/Python310/site-packages/sklearn/utils/validation.py?line=318'>319</a>\u001b[0m     \u001b[39m\"\"\"Check that all arrays have consistent first dimensions.\u001b[39;00m\n\u001b[0;32m    <a href='file:///c%3A/Users/yaras/AppData/Local/Packages/PythonSoftwareFoundation.Python.3.10_qbz5n2kfra8p0/LocalCache/local-packages/Python310/site-packages/sklearn/utils/validation.py?line=319'>320</a>\u001b[0m \n\u001b[0;32m    <a href='file:///c%3A/Users/yaras/AppData/Local/Packages/PythonSoftwareFoundation.Python.3.10_qbz5n2kfra8p0/LocalCache/local-packages/Python310/site-packages/sklearn/utils/validation.py?line=320'>321</a>\u001b[0m \u001b[39m    Checks whether all objects in arrays have the same shape or length.\u001b[39;00m\n\u001b[1;32m   (...)\u001b[0m\n\u001b[0;32m    <a href='file:///c%3A/Users/yaras/AppData/Local/Packages/PythonSoftwareFoundation.Python.3.10_qbz5n2kfra8p0/LocalCache/local-packages/Python310/site-packages/sklearn/utils/validation.py?line=325'>326</a>\u001b[0m \u001b[39m        Objects that will be checked for consistent length.\u001b[39;00m\n\u001b[0;32m    <a href='file:///c%3A/Users/yaras/AppData/Local/Packages/PythonSoftwareFoundation.Python.3.10_qbz5n2kfra8p0/LocalCache/local-packages/Python310/site-packages/sklearn/utils/validation.py?line=326'>327</a>\u001b[0m \u001b[39m    \"\"\"\u001b[39;00m\n\u001b[1;32m--> <a href='file:///c%3A/Users/yaras/AppData/Local/Packages/PythonSoftwareFoundation.Python.3.10_qbz5n2kfra8p0/LocalCache/local-packages/Python310/site-packages/sklearn/utils/validation.py?line=328'>329</a>\u001b[0m     lengths \u001b[39m=\u001b[39m [_num_samples(X) \u001b[39mfor\u001b[39;00m X \u001b[39min\u001b[39;00m arrays \u001b[39mif\u001b[39;00m X \u001b[39mis\u001b[39;00m \u001b[39mnot\u001b[39;00m \u001b[39mNone\u001b[39;00m]\n\u001b[0;32m    <a href='file:///c%3A/Users/yaras/AppData/Local/Packages/PythonSoftwareFoundation.Python.3.10_qbz5n2kfra8p0/LocalCache/local-packages/Python310/site-packages/sklearn/utils/validation.py?line=329'>330</a>\u001b[0m     uniques \u001b[39m=\u001b[39m np\u001b[39m.\u001b[39munique(lengths)\n\u001b[0;32m    <a href='file:///c%3A/Users/yaras/AppData/Local/Packages/PythonSoftwareFoundation.Python.3.10_qbz5n2kfra8p0/LocalCache/local-packages/Python310/site-packages/sklearn/utils/validation.py?line=330'>331</a>\u001b[0m     \u001b[39mif\u001b[39;00m \u001b[39mlen\u001b[39m(uniques) \u001b[39m>\u001b[39m \u001b[39m1\u001b[39m:\n",
      "File \u001b[1;32m~\\AppData\\Local\\Packages\\PythonSoftwareFoundation.Python.3.10_qbz5n2kfra8p0\\LocalCache\\local-packages\\Python310\\site-packages\\sklearn\\utils\\validation.py:269\u001b[0m, in \u001b[0;36m_num_samples\u001b[1;34m(x)\u001b[0m\n\u001b[0;32m    <a href='file:///c%3A/Users/yaras/AppData/Local/Packages/PythonSoftwareFoundation.Python.3.10_qbz5n2kfra8p0/LocalCache/local-packages/Python310/site-packages/sklearn/utils/validation.py?line=266'>267</a>\u001b[0m \u001b[39mif\u001b[39;00m \u001b[39mhasattr\u001b[39m(x, \u001b[39m\"\u001b[39m\u001b[39mshape\u001b[39m\u001b[39m\"\u001b[39m) \u001b[39mand\u001b[39;00m x\u001b[39m.\u001b[39mshape \u001b[39mis\u001b[39;00m \u001b[39mnot\u001b[39;00m \u001b[39mNone\u001b[39;00m:\n\u001b[0;32m    <a href='file:///c%3A/Users/yaras/AppData/Local/Packages/PythonSoftwareFoundation.Python.3.10_qbz5n2kfra8p0/LocalCache/local-packages/Python310/site-packages/sklearn/utils/validation.py?line=267'>268</a>\u001b[0m     \u001b[39mif\u001b[39;00m \u001b[39mlen\u001b[39m(x\u001b[39m.\u001b[39mshape) \u001b[39m==\u001b[39m \u001b[39m0\u001b[39m:\n\u001b[1;32m--> <a href='file:///c%3A/Users/yaras/AppData/Local/Packages/PythonSoftwareFoundation.Python.3.10_qbz5n2kfra8p0/LocalCache/local-packages/Python310/site-packages/sklearn/utils/validation.py?line=268'>269</a>\u001b[0m         \u001b[39mraise\u001b[39;00m \u001b[39mTypeError\u001b[39;00m(\n\u001b[0;32m    <a href='file:///c%3A/Users/yaras/AppData/Local/Packages/PythonSoftwareFoundation.Python.3.10_qbz5n2kfra8p0/LocalCache/local-packages/Python310/site-packages/sklearn/utils/validation.py?line=269'>270</a>\u001b[0m             \u001b[39m\"\u001b[39m\u001b[39mSingleton array \u001b[39m\u001b[39m%r\u001b[39;00m\u001b[39m cannot be considered a valid collection.\u001b[39m\u001b[39m\"\u001b[39m \u001b[39m%\u001b[39m x\n\u001b[0;32m    <a href='file:///c%3A/Users/yaras/AppData/Local/Packages/PythonSoftwareFoundation.Python.3.10_qbz5n2kfra8p0/LocalCache/local-packages/Python310/site-packages/sklearn/utils/validation.py?line=270'>271</a>\u001b[0m         )\n\u001b[0;32m    <a href='file:///c%3A/Users/yaras/AppData/Local/Packages/PythonSoftwareFoundation.Python.3.10_qbz5n2kfra8p0/LocalCache/local-packages/Python310/site-packages/sklearn/utils/validation.py?line=271'>272</a>\u001b[0m     \u001b[39m# Check that shape is returning an integer or default to len\u001b[39;00m\n\u001b[0;32m    <a href='file:///c%3A/Users/yaras/AppData/Local/Packages/PythonSoftwareFoundation.Python.3.10_qbz5n2kfra8p0/LocalCache/local-packages/Python310/site-packages/sklearn/utils/validation.py?line=272'>273</a>\u001b[0m     \u001b[39m# Dask dataframes may not return numeric shape[0] value\u001b[39;00m\n\u001b[0;32m    <a href='file:///c%3A/Users/yaras/AppData/Local/Packages/PythonSoftwareFoundation.Python.3.10_qbz5n2kfra8p0/LocalCache/local-packages/Python310/site-packages/sklearn/utils/validation.py?line=273'>274</a>\u001b[0m     \u001b[39mif\u001b[39;00m \u001b[39misinstance\u001b[39m(x\u001b[39m.\u001b[39mshape[\u001b[39m0\u001b[39m], numbers\u001b[39m.\u001b[39mIntegral):\n",
      "\u001b[1;31mTypeError\u001b[0m: Singleton array array(<tf.RaggedTensor [[[0.04476167604186792, 0.4319348470437463, 0.6600869858736284,\n   0.10562281276603319],\n  [0.04470801316027669, 0.2964123450175338, 0.07774368327560849,\n   0.45829554731734073],\n  [0.03172237834438992, 0.3748306898537166, 0.5074990849844845,\n   0.07828420800789393],\n  ...,\n  [0.9203440848389758, 0.9166299008698995, 0.9097912849111669,\n   0.46985195993497325],\n  [0.9973402144941484, 0.9373032164146093, 0.03445411172523899,\n   0.13522825316059572],\n  [1.0, 0.9376738124403152, 0.8614850196591373, 0.15025120160109273]],\n [[0.04476167604186792, 0.35549937554079314, 0.11415318614489606,\n   0.2616085383021353],\n  [0.03172237834438992, 0.35488049713897984, 0.11140956913496375,\n   0.1683793761334571],\n  [0.04253692822809806, 0.313280451454661, 0.6326202464701759,\n   0.1588511671586666],\n  ...,\n  [0.9102376093501364, 0.9098281299488606, 0.741198125000201,\n   0.30017373612523124],\n  [0.9973402144941484, 0.9216550949622406, 0.27213734061030426,\n   0.27830875813205336],\n  [1.0, 0.9558731697428202, 0.1940244049557851, 0.3545961199969835]],\n [[0.04476167604186792, 0.3196367976397032, 0.9130267340038772,\n   0.7966851751156288],\n  [0.04470801316027669, 0.2284764641929149, 0.15972317664037589,\n   0.4240256444944078],\n  [0.03172237834438992, 0.2992224102108061, 0.9153222036717249,\n   0.7034497600504326],\n  ...,\n  [0.9102376093501364, 0.9402396912503876, 0.8089464905308076,\n   0.3237117017379686],\n  [0.9973402144941484, 0.979874900638495, 0.04955081096588493,\n   0.6725864980281844],\n  [1.0, 0.9664629965211011, 0.053321559880914415, 0.8237698281916794]],\n [[0.04476167604186792, 0.36012233281780803, 0.13103016470734263,\n   0.7145934026031384],\n  [0.04470801316027669, 0.2769216248057358, 0.6480294341489201,\n   0.7407476689313115],\n  [0.03172237834438992, 0.3562910033672755, 0.18969825676793461,\n   0.7302267796632919],\n  ...,\n  [0.9102376093501364, 0.8962580121375718, 0.3521967418883952,\n   0.42620960835882216],\n  [0.9973402144941484, 0.8939487646532025, 0.11304839376406023,\n   0.9485280573400574],\n  [1.0, 0.9213137103176692, 0.03571380939654273, 0.8065934418548002]],\n [[0.04476167604186792, 0.3839275087359342, 0.21026212493907542,\n   0.42214979035263756],\n  [0.04470801316027669, 0.3317848331679407, 0.9132596360121805,\n   0.3782634451199948],\n  [0.04253692822809806, 0.34285204138544145, 0.06483000342731782,\n   0.751883862196961],\n  ...,\n  [0.9102376093501364, 0.9592404877001837, 0.16964643152359848,\n   0.9284803197151871],\n  [0.9973402144941484, 0.9410588429602806, 0.0911742109866846,\n   0.35768668067225723],\n  [1.0, 0.8888228363210113, 0.16785868250260066, 0.2801469583893811]],\n [[0.04476167604186792, 0.37949106705094904, 0.0945291810014463,\n   0.5927720979168991],\n  [0.04470801316027669, 0.23527688172546135, 0.5720392669425723,\n   0.8586121698128514],\n  [0.03172237834438992, 0.34230884209742873, 0.1426245913654885,\n   0.6016329788833947],\n  ...,\n  [0.9102376093501364, 0.9234944213963323, 0.32485625434201015,\n   0.3641541755172344],\n  [0.9973402144941484, 0.9231479933972699, 0.11669997517337549,\n   0.8249036581802016],\n  [1.0, 0.9355648623882642, 0.03677012595262741, 0.7162842934067022]],\n [[0.04476167604186792, 0.4256653570102338, 0.22430811160017466,\n   0.6119172409789656],\n  [0.04470801316027669, 0.3460209453276666, 0.42286311173742747,\n   0.13609545105152715],\n  [0.03172237834438992, 0.40414054758960427, 0.18661195118566337,\n   0.5540767724161276],\n  ...,\n  [0.9371342293961398, 0.9097622698097769, 0.08523832433000345,\n   0.1336911308482866],\n  [0.9973402144941484, 0.901550977555909, 0.26638835568549735,\n   0.3914512691276043],\n  [1.0, 0.9276180622354988, 0.2954059949948066, 0.5321616920329105]],\n [[0.04476167604186792, 0.3941314336850845, 0.7706529306830818,\n   0.7021741919683584],\n  [0.04470801316027669, 0.3203773599777975, 0.5037745456810879,\n   0.45145646007008383],\n  [0.03172237834438992, 0.2902176011593989, 0.7509313559599824,\n   0.7909652925082666],\n  ...,\n  [0.9102376093501364, 0.9264160675126405, 0.19059688660319457,\n   0.7847580354191271],\n  [0.9973402144941484, 0.9331055660885013, 0.6392277966017237,\n   0.6426383736264991],\n  [1.0, 0.9307749669095937, 0.7122177860947065, 0.5816677191641729]],\n [[0.04476167604186792, 0.3761044400965412, 0.2948071591983945,\n   0.7757858779881248],\n  [0.03172237834438992, 0.3677164921562901, 0.31026058040246884,\n   0.6851692458250461],\n  [0.04253692822809806, 0.3731258462277167, 0.33979003951909437,\n   0.35966765462511086],\n  ...,\n  [0.9102376093501364, 0.9138068683539999, 0.23300940900771433,\n   0.2789733350293794],\n  [0.9973402144941484, 0.9001145951175373, 0.4462894484779493,\n   0.7006424502097648],\n  [1.0, 0.9680607616363606, 0.4224840370213973, 0.8493486530177722]],\n [[0.04476167604186792, 0.42042858714206455, 0.5642182038925748,\n   0.6983340284169863],\n  [0.04470801316027669, 0.3530431745005731, 0.15846862419825208,\n   0.7127967042244923],\n  [0.03172237834438992, 0.40580997805212293, 0.6151754583354292,\n   0.7487436171514269],\n  ...,\n  [0.9203440848389758, 0.9318805269950832, 0.3175406733368905,\n   0.5380717488119464],\n  [0.9973402144941484, 0.9322191436791121, 0.4348470125189277,\n   0.8830095468838342],\n  [1.0, 0.8839729434841583, 0.46431531657742897, 0.734822831930793]]]>,\n      dtype=object) cannot be considered a valid collection."
     ]
    }
   ],
   "source": [
    "# train-test splitting\n",
    "train_test_split_tensors(input_data, output_data, train_size=0.85, random_state=0, shuffle=True)"
   ]
  },
  {
   "cell_type": "code",
   "execution_count": 32,
   "metadata": {},
   "outputs": [
    {
     "name": "stdout",
     "output_type": "stream",
     "text": [
      "10 10\n"
     ]
    }
   ],
   "source": [
    "print(input_data.shape[0], output_data.shape[0])"
   ]
  },
  {
   "cell_type": "markdown",
   "metadata": {},
   "source": [
    "### model creation"
   ]
  },
  {
   "cell_type": "code",
   "execution_count": null,
   "metadata": {},
   "outputs": [],
   "source": [
    "# model creations\n",
    "\n",
    "model0 = tf.keras.models.Sequential(\n",
    "    [\n",
    "        # add layers here\n",
    "        # figure out what layers to use\n",
    "    ]\n",
    ")\n",
    "# add model stuff here"
   ]
  }
 ],
 "metadata": {
  "interpreter": {
   "hash": "c6038a1b420e1c960d5a71fceb90c2902e154518be2efe0b3c15ee4b8a34c8ba"
  },
  "kernelspec": {
   "display_name": "Python 3.10.4 64-bit (windows store)",
   "language": "python",
   "name": "python3"
  },
  "language_info": {
   "codemirror_mode": {
    "name": "ipython",
    "version": 3
   },
   "file_extension": ".py",
   "mimetype": "text/x-python",
   "name": "python",
   "nbconvert_exporter": "python",
   "pygments_lexer": "ipython3",
   "version": "3.10.4"
  },
  "orig_nbformat": 4
 },
 "nbformat": 4,
 "nbformat_minor": 2
}
