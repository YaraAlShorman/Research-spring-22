{
 "cells": [
  {
   "cell_type": "code",
   "execution_count": null,
   "metadata": {},
   "outputs": [],
   "source": [
    "# This code is written by Yara Al-Shorman\n",
    "# Date created: May 18 2022\n",
    "# Last modified: May 22 2022\n",
    "# Github repo: https://github.com/YaraAlShorman/Research-spring-22\n",
    "# The purpose of this code is to predict the bulkflows for a large given set of galaxies (using machine learning)"
   ]
  },
  {
   "cell_type": "markdown",
   "metadata": {},
   "source": [
    "### imports"
   ]
  },
  {
   "cell_type": "code",
   "execution_count": 1,
   "metadata": {},
   "outputs": [],
   "source": [
    "# imports\n",
    "import numpy as np\n",
    "import tensorflow as tf\n",
    "# import matplotlib.pyplot as plt"
   ]
  },
  {
   "cell_type": "markdown",
   "metadata": {},
   "source": [
    "### data processing"
   ]
  },
  {
   "cell_type": "code",
   "execution_count": 51,
   "metadata": {},
   "outputs": [],
   "source": [
    "# stacking all of the data into one humungous tensor\n",
    "# I am using tensors because they can be ragged and can be stacked\n",
    "# these means we won't have to cut off our data to standardize array sizes\n",
    "data = np.load(f'C:/Users/yaras/Documents/Research/Feldman/rotated-outerrim-cz-rand/rotated-0-error-40.npy.npz')\n",
    "first_file = tf.convert_to_tensor(data['data'])\n",
    "first_header = tf.convert_to_tensor(data['header'])\n",
    "\n",
    "data = np.load(f'C:/Users/yaras/Documents/Research/Feldman/rotated-outerrim-cz-rand/rotated-1-error-40.npy.npz')\n",
    "second_file = tf.convert_to_tensor(data['data'])\n",
    "second_header = tf.convert_to_tensor(data['header'])\n",
    "\n",
    "input_data = tf.ragged.stack([first_file, second_file], axis=0)\n",
    "output_data = tf.stack([first_header, second_header], axis=0)\n",
    "\n",
    "for i in range(2,10): # limit 3000\n",
    "        array_data = np.load(f'C:/Users/yaras/Documents/Research/Feldman/rotated-outerrim-cz-rand/rotated-{i}-error-40.npy.npz')\n",
    "        # 'data' data\n",
    "        temp = tf.convert_to_tensor(array_data['data'], dtype='float64')\n",
    "        temp = tf.expand_dims(temp, axis=0)\n",
    "        input_data = tf.concat([input_data, temp], axis=0)\n",
    "        # 'header' data\n",
    "        temp = tf.convert_to_tensor(array_data['header'], dtype='float64')\n",
    "        temp = tf.expand_dims(temp, axis=0)\n",
    "        output_data = tf.concat([output_data, temp], axis=0)\n",
    "        \n",
    "# input_data and output_data are ready  \n",
    "        "
   ]
  },
  {
   "cell_type": "markdown",
   "metadata": {},
   "source": [
    "### model creation"
   ]
  },
  {
   "cell_type": "code",
   "execution_count": null,
   "metadata": {},
   "outputs": [],
   "source": [
    "# model creations\n",
    "\n",
    "model0 = tf.keras.models.Sequential(\n",
    "    [\n",
    "        # add layers here\n",
    "        # figure out what layers to use\n",
    "    ]\n",
    ")\n",
    "# add model stuff here"
   ]
  }
 ],
 "metadata": {
  "interpreter": {
   "hash": "c6038a1b420e1c960d5a71fceb90c2902e154518be2efe0b3c15ee4b8a34c8ba"
  },
  "kernelspec": {
   "display_name": "Python 3.10.4 64-bit (windows store)",
   "language": "python",
   "name": "python3"
  },
  "language_info": {
   "codemirror_mode": {
    "name": "ipython",
    "version": 3
   },
   "file_extension": ".py",
   "mimetype": "text/x-python",
   "name": "python",
   "nbconvert_exporter": "python",
   "pygments_lexer": "ipython3",
   "version": "3.10.4"
  },
  "orig_nbformat": 4
 },
 "nbformat": 4,
 "nbformat_minor": 2
}
