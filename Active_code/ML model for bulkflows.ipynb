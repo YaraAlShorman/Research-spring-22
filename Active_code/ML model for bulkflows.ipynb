{
 "cells": [
  {
   "cell_type": "code",
   "execution_count": 1,
   "metadata": {},
   "outputs": [],
   "source": [
    "# This code is written by Yara Al-Shorman\n",
    "# Date created: May 18 2022\n",
    "# Last modified: Jun 6 2022\n",
    "# Github repo: https://github.com/YaraAlShorman/Research-spring-22\n",
    "# The purpose of this code is to predict the bulkflows for a large given set of galaxies (using machine learning)"
   ]
  },
  {
   "cell_type": "markdown",
   "metadata": {},
   "source": [
    "### imports"
   ]
  },
  {
   "cell_type": "code",
   "execution_count": 2,
   "metadata": {},
   "outputs": [],
   "source": [
    "# imports\n",
    "import tensorflow as tf\n",
    "from numpy import load, concatenate, expand_dims  # I am doing this to minimize unncessary imports, they take up too much RAM and time\n",
    "from sklearn.preprocessing import MinMaxScaler\n",
    "from math import floor\n",
    "from matplotlib import pyplot as plt"
   ]
  },
  {
   "cell_type": "markdown",
   "metadata": {},
   "source": [
    "#### disable gpu (for whatever reason)"
   ]
  },
  {
   "cell_type": "code",
   "execution_count": 3,
   "metadata": {},
   "outputs": [
    {
     "name": "stdout",
     "output_type": "stream",
     "text": [
      "No GPU found\n"
     ]
    }
   ],
   "source": [
    "# run this snippet to disable GPU\n",
    "\n",
    "import os\n",
    "\n",
    "os.environ['CUDA_VISIBLE_DEVICES'] = '-1'\n",
    "\n",
    "if tf.test.gpu_device_name():\n",
    "    print('GPU found')\n",
    "else:\n",
    "    print(\"No GPU found\")"
   ]
  },
  {
   "cell_type": "markdown",
   "metadata": {},
   "source": [
    "### checking for GPU"
   ]
  },
  {
   "cell_type": "markdown",
   "metadata": {},
   "source": [
    "### tangent: running tensorflow with GPU\n",
    "\n",
    "Tensorflow by default attempts to run on GPU if possible. If the capability to do so was not found, it runs on the CPU. <br>\n",
    "To allow it to run on the GPU and you are using an NVIDIA graphics card, you must download the THE CORRECT VERSIONS of CUDNN, CUDA, Tensorflow, and Python. <br>\n",
    "Yes, all of them have to match up. (It took me 2 days to figure that out) <br>\n",
    "To check if your NVIDIA GPU is compatible (I dont know if this works for AMD GPUs): Refer to https://developer.nvidia.com/cuda-gpus <br>\n",
    "I have a GTX 1650 TI with Max-Q capability. Which is compatible.<br>\n",
    "Furthermore, you must ensure you have matching versions of Python, Tensorflow, CUDNN and CUDA. <br>\n",
    "No, having the newest versions is not enough. <br>\n",
    "I installed: <br>\n",
    "CUDNN v11.2 <br>\n",
    "CUDA v8.1 <br>\n",
    "Tensorflow v2.9 <br>\n",
    "Python v3.10 <br>\n",
    "You also need a compatible version of Visual Studio (MSVC). I have MSVC 2019. <br>\n",
    "Keep in mind that the newest versions of CUDA and CUDNN are 8.4 and 11.7, respectively. Which will NOT work. Pay careful attention to versions. <br>\n",
    "Refer to this page for compatible versions: https://www.tensorflow.org/install/source_windows#gpu <br>\n",
    "Of course, things are different if you are using Mac or Linux <br>"
   ]
  },
  {
   "cell_type": "code",
   "execution_count": 4,
   "metadata": {},
   "outputs": [
    {
     "name": "stdout",
     "output_type": "stream",
     "text": [
      "[]\n"
     ]
    }
   ],
   "source": [
    "# checking that GPU is available\n",
    "print(tf.config.list_physical_devices('GPU'))"
   ]
  },
  {
   "cell_type": "code",
   "execution_count": 5,
   "metadata": {},
   "outputs": [],
   "source": [
    "# to avoid memory allocation/resource errors with my GPU\n",
    "# this prevents Tensorflow from allocating all the memory at once, and instead\n",
    "# allocating it as necessary\n",
    "# such that it doesn't exhaust the entire 4 GB of memory from the GPU\n",
    "\n",
    "gpus = tf.config.experimental.list_physical_devices('GPU') \n",
    "for gpu in gpus: tf.config.experimental.set_memory_growth(gpu, True)"
   ]
  },
  {
   "cell_type": "markdown",
   "metadata": {},
   "source": [
    "### data preprocessing\n",
    "loading, stacking, and scaling"
   ]
  },
  {
   "cell_type": "code",
   "execution_count": 7,
   "metadata": {},
   "outputs": [],
   "source": [
    "tf.random.set_seed(982369253487)\n",
    "# stacking all of the data into one humungous tensor\n",
    "# I am using tensors because they can be ragged and can be stacked\n",
    "# these means we won't have to cut off our data to standardize array sizes\n",
    "data = load(f'C:/Users/yaras/Documents/Research/Feldman/distinct_data_only/processed-0-error-40.npz')\n",
    "# data = load(f'C:/Users/yaras/Documents/Research/Feldman/TEST/rotated-0-TEST.npz')\n",
    "input_data = data['data']\n",
    "scaler = MinMaxScaler()\n",
    "scaler.fit(input_data)\n",
    "input_data = scaler.transform(input_data)\n",
    "input_data = tf.expand_dims(input_data, axis=0)\n",
    "input_data = tf.RaggedTensor.from_tensor(input_data)\n",
    "# if scaling the data this way doesn't work good enough, i can try scaling all the data at once, to one scale\n",
    "# in this case, i am scaling every 'square' of data seprately\n",
    "# i should try scaling the entire 'cube' at once\n",
    "\n",
    "output_data = tf.convert_to_tensor(data['header'])\n",
    "output_data = tf.expand_dims(output_data, axis=0)\n",
    "\n",
    "num_of_files = 300  # variable for number of files to load, current limit is 3000\n",
    "files_acc = range(0, num_of_files)\n",
    "\n",
    "for i in files_acc: # limit 3000\n",
    "        array_data = load(f'C:/Users/yaras/Documents/Research/Feldman/distinct_data_only/processed-{i}-error-40.npz')\n",
    "        # array_data = load(f'C:/Users/yaras/Documents/Research/Feldman/TEST/rotated-{i}-TEST.npz')\n",
    "        # 'data' data\n",
    "        temp = tf.convert_to_tensor(array_data['data'], dtype='float64')\n",
    "        scaler = MinMaxScaler()\n",
    "        scaler.fit(temp)\n",
    "        temp = scaler.transform(temp)\n",
    "        temp = tf.expand_dims(temp, axis=0)  # dimensions have to be expandad to be able to concat along the outer-dimension \n",
    "        input_data = tf.concat([input_data, temp], axis=0)  # concat adds to existing dimensions, does not create new ones\n",
    "        # 'input_data' is a tensor\n",
    "\n",
    "        # 'header' data (bulkflows)\n",
    "        temp = array_data['header']\n",
    "        temp = expand_dims(temp, axis=0)\n",
    "        output_data = concatenate([output_data, temp], axis=0)\n",
    "        # 'output_data' is an array, because it is uniform \n",
    "        # i scale it (normalize it) all at once, then i convert it to a tensor\n",
    "\n",
    "# next is scaling\n",
    "\n",
    "# normalizing/scaling the data\n",
    "scaler = MinMaxScaler()\n",
    "scaler.fit(output_data)\n",
    "output_data = scaler.transform(output_data)\n",
    "output_data = tf.convert_to_tensor(output_data)\n",
    "\n",
    "input_data = input_data.to_tensor()  # trunactes the tensor to largest possible size w/o padding, currently being: [batch_size, 11009, 4]\n",
    "\n",
    "# splitting the data into train/test sections\n",
    "# 75% -> train\n",
    "# 25% -> test\n",
    "test_percent = 0.25\n",
    "cuttoff = len(files_acc) * test_percent\n",
    "input_test, input_train = (input_data[:floor(cuttoff)], \\\n",
    "                                input_data[floor(cuttoff)::])\n",
    "output_test, output_train = (output_data[:floor(cuttoff)], \\\n",
    "                                output_data[floor(cuttoff)::])\n",
    "\n",
    "output_test = scaler.inverse_transform(output_test)\n",
    "\n",
    "# data is split and ready for the model"
   ]
  },
  {
   "cell_type": "markdown",
   "metadata": {},
   "source": [
    "### model creation"
   ]
  },
  {
   "cell_type": "code",
   "execution_count": 10,
   "metadata": {},
   "outputs": [
    {
     "name": "stdout",
     "output_type": "stream",
     "text": [
      "Model: \"model_1\"\n",
      "_________________________________________________________________\n",
      " Layer (type)                Output Shape              Param #   \n",
      "=================================================================\n",
      " input_2 (InputLayer)        [(None, 10944, 4)]        0         \n",
      "                                                                 \n",
      " conv1d_3 (Conv1D)           (None, 10929, 64)         4160      \n",
      "                                                                 \n",
      " conv1d_4 (Conv1D)           (None, 10924, 32)         12320     \n",
      "                                                                 \n",
      " conv1d_5 (Conv1D)           (None, 10921, 32)         4128      \n",
      "                                                                 \n",
      " flatten_1 (Flatten)         (None, 349472)            0         \n",
      "                                                                 \n",
      " dense_1 (Dense)             (None, 3)                 1048419   \n",
      "                                                                 \n",
      "=================================================================\n",
      "Total params: 1,069,027\n",
      "Trainable params: 1,069,027\n",
      "Non-trainable params: 0\n",
      "_________________________________________________________________\n"
     ]
    }
   ],
   "source": [
    "# Creating a model using model API (the harder way)\n",
    "# hl stands for 'hidden-layer'\n",
    "\n",
    "\n",
    "inputs = tf.keras.Input(shape=[10944, 4], ragged=False)\n",
    "hl1 = tf.keras.layers.Conv1D(64, 16, activation='relu')(inputs)\n",
    "hl2 = tf.keras.layers.Conv1D(32, 6, activation='tanh')(hl1)\n",
    "hl3 = tf.keras.layers.Conv1D(32, 4, activation='relu')(hl2)\n",
    "# hl4 = tf.keras.layers.Conv1D(4, 2, use_bias=True)(hl3)\n",
    "flat = tf.keras.layers.Flatten()(hl3)\n",
    "# hl4 = tf.keras.layers.Dense(16, activation='relu')(flat)\n",
    "outputs = tf.keras.layers.Dense(3, activation='linear')(flat)\n",
    "model0 = tf.keras.Model(inputs=inputs, outputs=outputs)\n",
    "\n",
    "model0.compile(loss='mse', \n",
    "               optimizer=tf.keras.optimizers.Adam(learning_rate=0.00001),  # do not change learning rate as i have found 0.001 (for Adam) to be the most optimal rate\n",
    "               metrics=['accuracy'])\n",
    "\n",
    "model0.summary()"
   ]
  },
  {
   "cell_type": "code",
   "execution_count": 11,
   "metadata": {},
   "outputs": [
    {
     "name": "stdout",
     "output_type": "stream",
     "text": [
      "Epoch 1/5\n",
      "8/8 [==============================] - 5s 490ms/step - loss: 0.1412 - accuracy: 0.5487\n",
      "Epoch 2/5\n",
      "8/8 [==============================] - 4s 487ms/step - loss: 0.0737 - accuracy: 0.6372\n",
      "Epoch 3/5\n",
      "8/8 [==============================] - 4s 486ms/step - loss: 0.0397 - accuracy: 0.6283\n",
      "Epoch 4/5\n",
      "8/8 [==============================] - 4s 485ms/step - loss: 0.0377 - accuracy: 0.5619\n",
      "Epoch 5/5\n",
      "8/8 [==============================] - 4s 484ms/step - loss: 0.0339 - accuracy: 0.6416\n"
     ]
    }
   ],
   "source": [
    "a = model0.fit(input_train, output_train, epochs=5, use_multiprocessing=True, workers=1000)"
   ]
  },
  {
   "cell_type": "markdown",
   "metadata": {},
   "source": [
    "### testing & graphing results"
   ]
  },
  {
   "cell_type": "code",
   "execution_count": 12,
   "metadata": {},
   "outputs": [
    {
     "name": "stdout",
     "output_type": "stream",
     "text": [
      "3/3 [==============================] - 0s 75ms/step\n",
      "[[ -25.39076889  148.71427005 -144.27017343]\n",
      " [ -25.39076889  148.71427005 -144.27017343]\n",
      " [ 100.86102729    1.1439279  -203.83560692]\n",
      " [-208.72128374   49.10202383 -124.09919739]\n",
      " [  -4.62407516 -104.04408259  102.47271468]\n",
      " [ -38.8056201   -90.95534852 -251.26885033]\n",
      " [ -30.1299643    34.2618963   -33.38143386]\n",
      " [  59.18985885 -113.52450527  129.18291167]\n",
      " [  43.22393162 -114.73603399  242.45084045]\n",
      " [-117.35181212    4.95540761 -124.76243216]\n",
      " [ -18.13062225    1.73420516 -105.73907297]\n",
      " [-267.07036194  149.06896897  -62.34410113]\n",
      " [ 113.14392164  -11.69223706 -115.44708239]\n",
      " [  31.69586292  125.45655104 -129.28033905]\n",
      " [  61.99160544  130.2126379    31.73576745]\n",
      " [ -29.74991627  -89.34430587   87.31252805]\n",
      " [ -74.32099511  -71.93984563  -65.64130376]\n",
      " [  31.53846917   80.48645791  -53.00860199]\n",
      " [ 107.43248976  -27.73257745 -128.35267334]\n",
      " [-119.53175445 -109.33184553 -163.0360985 ]\n",
      " [ -66.8111089  -201.85123355  -67.70860593]\n",
      " [ -21.50084628  103.35216067 -222.60016722]\n",
      " [ -37.40022209  -28.13600349  -21.27604171]\n",
      " [-131.40050531   86.79873825   40.59730294]\n",
      " [  55.15091678  190.42038933 -195.63328299]\n",
      " [ -59.92781824   84.60948429  -32.53234316]\n",
      " [   8.31490304   24.0248358   -39.72645766]\n",
      " [  98.22519178    2.35453037  -30.73327893]\n",
      " [-108.69483807   88.72717955   17.69773686]\n",
      " [ -45.6987725   -50.410354     23.67286289]\n",
      " [-127.00155605   37.07816371   70.83574176]\n",
      " [-142.89723218    6.03712759  -24.80709153]\n",
      " [-192.64862706  114.96263448 -160.89599102]\n",
      " [ -65.18534694   46.01460736 -155.21063023]\n",
      " [  58.32412677   69.5179275   -46.62261159]\n",
      " [ -20.13426726   56.97914307  -27.71919736]\n",
      " [  72.9510258  -126.45517671  236.80606142]\n",
      " [ -86.18794018   -1.19728425  -64.10323488]\n",
      " [  47.92342818   65.06674009  -17.45333469]\n",
      " [ 103.03024112  -14.41269834 -167.76864331]\n",
      " [ 174.22337076  -75.32867442   19.11804448]\n",
      " [ -18.81829435  -41.48753523  -45.41877772]\n",
      " [ -72.05845415  105.20477585   38.40897688]\n",
      " [  39.36536241  -19.05985306  -60.20656279]\n",
      " [ -57.56136451   49.14707969 -122.83508243]\n",
      " [   4.05375945   53.43752692 -115.73936463]\n",
      " [ -54.55017571  -28.8147049   -76.09992937]\n",
      " [ -24.38218122   94.98569371  -60.78036058]\n",
      " [ -76.07935156   -7.04787249 -135.07748629]\n",
      " [ 125.26129957    7.37600582   76.96265276]\n",
      " [  70.69875604   59.30459352  -34.10873384]\n",
      " [ -62.21208178 -121.45734065  -65.7129824 ]\n",
      " [  -8.10301991  -46.69016385   25.74667955]\n",
      " [  74.84488991   75.70692463 -111.95926328]\n",
      " [  -0.38949151 -301.8063251    85.740216  ]\n",
      " [  25.99772855  151.51895212  -46.51518618]\n",
      " [-125.7190157    30.86118832 -192.04356642]\n",
      " [ -30.84509654  122.00634114  -48.71412025]\n",
      " [ -67.7301571    53.46035176   19.93866992]\n",
      " [  -3.44627955   66.02916985  -90.85061722]\n",
      " [ -96.00003506  -24.51731267  -43.89227008]\n",
      " [ -54.83218817   21.16994789  -86.02625762]\n",
      " [  37.27903923  110.09875892 -190.57996223]\n",
      " [-120.60943471  137.2241509  -126.99120473]\n",
      " [  -5.90905896  127.66982314  -51.20834846]\n",
      " [ 201.49349276  -29.98425614 -151.17339172]\n",
      " [ -91.20201857 -176.71395907  -42.75288555]\n",
      " [  18.93827368  -51.15260188  -80.00779584]\n",
      " [   4.35459882  201.30194088 -176.64477347]\n",
      " [ -79.38278525   16.99308067  -74.82343125]\n",
      " [  35.05791936  -27.45755672  -70.62429738]\n",
      " [-207.34190792   56.08201033 -140.54715911]\n",
      " [  -3.33766271   61.67222129 -145.90307793]\n",
      " [ 131.33642207  -24.09165494 -119.40228324]\n",
      " [  14.42878604 -121.87034497   18.42471923]]\n",
      "[[-15.010197    64.804      -13.618758  ]\n",
      " [-15.010197    64.804      -13.618758  ]\n",
      " [  9.681663    14.312237   -22.453203  ]\n",
      " [ -7.107671    70.94863    -46.72267   ]\n",
      " [ -6.015395    51.958576    -9.926117  ]\n",
      " [-58.163425    76.62794    -13.389322  ]\n",
      " [ -0.47456282  96.069496   -74.47961   ]\n",
      " [-44.53692     72.440994   -46.948456  ]\n",
      " [-13.426104    40.60942    -24.795692  ]\n",
      " [-11.026738    71.16119    -55.303547  ]\n",
      " [-34.59856     30.118412    -7.591061  ]\n",
      " [-23.64938     38.56556    -14.365268  ]\n",
      " [  4.718591    65.114365   -65.298256  ]\n",
      " [-18.712719    70.5361     -42.931168  ]\n",
      " [ 13.162234    49.705833   -39.975456  ]\n",
      " [ -3.0390615   64.41427    -54.728497  ]\n",
      " [ -3.0947323   46.09697    -34.614216  ]\n",
      " [  6.5968943  110.48643    -52.310375  ]\n",
      " [  6.6994567   72.56304    -62.48857   ]\n",
      " [-11.44333     39.32186    -26.529762  ]\n",
      " [ -3.9924831   26.092154     0.8019416 ]\n",
      " [ -7.4245777   55.957108   -15.007666  ]\n",
      " [ 40.33268     38.015507     5.9953756 ]\n",
      " [  0.84233403  51.18552    -44.81917   ]\n",
      " [-18.210302    93.74855      0.753453  ]\n",
      " [-28.357117   111.26806    -40.430073  ]\n",
      " [ -8.575637    69.38846    -47.287724  ]\n",
      " [ -6.6115956   75.39642     -9.908913  ]\n",
      " [ 19.157652    63.345146   -33.292656  ]\n",
      " [-33.937443    31.622341   -80.00359   ]\n",
      " [  2.142465    58.964603   -50.847076  ]\n",
      " [-20.821913    46.035862   -68.34516   ]\n",
      " [ -1.1763207   82.712975   -71.35296   ]\n",
      " [-44.258183    37.284435   -48.626823  ]\n",
      " [-23.686758    84.8875     -21.96875   ]\n",
      " [  2.180871    61.507336   -32.56322   ]\n",
      " [-28.557133    40.317165   -27.955751  ]\n",
      " [ -9.777521    55.102707   -53.161804  ]\n",
      " [-19.391838    66.022545   -19.29098   ]\n",
      " [-35.41736     54.08746    -64.12931   ]\n",
      " [ -1.1636655   -5.0595384   16.765297  ]\n",
      " [-20.411148   101.281044   -47.895412  ]\n",
      " [-24.256268    42.12127    -22.27824   ]\n",
      " [-13.018967    84.69419    -64.896675  ]\n",
      " [ -6.3006496   52.50613    -32.550026  ]\n",
      " [-36.286625    65.03943    -40.41413   ]\n",
      " [-38.778748    70.24384    -29.182554  ]\n",
      " [-32.36201     68.63922    -49.64981   ]\n",
      " [-36.271477    70.92189     -8.006301  ]\n",
      " [-25.651709    93.71031    -60.49715   ]\n",
      " [-59.621937    80.2579     -20.492277  ]\n",
      " [  1.3801329   59.913555     1.4334601 ]\n",
      " [-46.21538     72.53962    -58.678566  ]\n",
      " [-34.65526     62.356216   -58.09034   ]\n",
      " [-59.43763     71.24857    -67.20949   ]\n",
      " [ 22.817274    76.781265    12.101171  ]\n",
      " [-33.143677    54.304287   -52.03872   ]\n",
      " [-30.30627     30.14003    -88.288895  ]\n",
      " [ -8.796441    90.08367    -13.909182  ]\n",
      " [-39.514126    60.624355   -46.596478  ]\n",
      " [-43.329662    38.870693   -57.41357   ]\n",
      " [-16.701435    59.3183     -21.596182  ]\n",
      " [ -4.7199917   49.361603   -38.843243  ]\n",
      " [-34.73909     50.838398   -20.517555  ]\n",
      " [-23.970852    29.448875   -20.297174  ]\n",
      " [-16.501478    59.940132    22.379393  ]\n",
      " [  1.385007    33.167007   -63.777374  ]\n",
      " [-51.05264     43.61127    -43.699474  ]\n",
      " [-41.33576     69.55272    -73.974884  ]\n",
      " [-17.663254    55.966568   -16.297073  ]\n",
      " [-15.079668    66.84773    -97.9925    ]\n",
      " [-51.260902    60.475136   -48.05639   ]\n",
      " [-21.558846    57.79843    -70.91704   ]\n",
      " [ -8.893718    49.837704    -5.1546235 ]\n",
      " [-44.636135    64.09425     -7.638194  ]]\n"
     ]
    }
   ],
   "source": [
    "output_pred = model0.predict(input_test)\n",
    "\n",
    "# recall that scaler = MinMaxScaler(), it uses the same transformer I used to scale the data initally to un-scale it\n",
    "output_pred = scaler.inverse_transform(output_pred)\n",
    "\n",
    "print(output_test)\n",
    "print(output_pred)"
   ]
  },
  {
   "cell_type": "code",
   "execution_count": 13,
   "metadata": {},
   "outputs": [
    {
     "data": {
      "image/png": "[encoded data removed]",
      "text/plain": [
       "<Figure size 1440x576 with 3 Axes>"
      ]
     },
     "metadata": {
      "needs_background": "light"
     },
     "output_type": "display_data"
    }
   ],
   "source": [
    "# producing tensors of the true/predicted magnitues of the bulkflow\n",
    "# basically pythagorean theorem\n",
    "# magnitude = sqrt(x^2 + y^2 + z^2)\n",
    "\n",
    "bf = tf.math.sqrt(tf.math.pow(output_test[:, 0], 2) + tf.math.pow(output_test[:, 1], 2) + tf.math.pow(output_test[:, 2], 2))\n",
    "pred_bf = tf.math.sqrt(tf.math.pow(output_pred[:, 0], 2) + tf.math.pow(output_pred[:, 1], 2) + tf.math.pow(output_pred[:, 2], 2))\n",
    "\n",
    "# GREEN is TRUE\n",
    "# RED is PREDICTED\n",
    "\n",
    "fig = plt.figure()\n",
    "fig.set_figheight(8) \n",
    "fig.set_figwidth(20)\n",
    "\n",
    "bx = fig.add_subplot(1, 3, 1)\n",
    "plt.scatter(output_test[:, 0], output_pred[:, 0], color='red')\n",
    "plt.scatter(output_test[:, 0], output_test[:, 0], color='green')\n",
    "plt.title('Predicted vs True bulkflows: x-component')\n",
    "\n",
    "\n",
    "by = fig.add_subplot(1, 3, 2, sharey=bx)\n",
    "plt.scatter(output_test[:, 1], output_pred[:, 1], color='red')\n",
    "plt.scatter(output_test[:, 1], output_test[:, 1], color='green')\n",
    "plt.title('Predicted vs True bulkflows: y-component')\n",
    "\n",
    "bz = fig.add_subplot(1, 3, 3, sharey=bx)\n",
    "plt.scatter(output_test[:, 2], output_pred[:, 2], color='red')\n",
    "plt.scatter(output_test[:, 2], output_test[:, 2], color='green')\n",
    "plt.title('Predicted vs True bulkflows: z-component')\n",
    "\n",
    "plt.show()"
   ]
  },
  {
   "cell_type": "code",
   "execution_count": 14,
   "metadata": {},
   "outputs": [
    {
     "data": {
      "image/png": "[encoded data removed]",
      "text/plain": [
       "<Figure size 432x288 with 1 Axes>"
      ]
     },
     "metadata": {
      "needs_background": "light"
     },
     "output_type": "display_data"
    }
   ],
   "source": [
    "fig1 = plt.figure()\n",
    "bx = fig1.add_subplot(1, 1, 1)\n",
    "plt.scatter(bf, pred_bf, color='red')\n",
    "plt.scatter(bf, bf, color='green')\n",
    "plt.title('Predicted vs True bulkflows: Magnitude')\n",
    "\n",
    "plt.show()\n"
   ]
  },
  {
   "cell_type": "markdown",
   "metadata": {},
   "source": [
    "### save model"
   ]
  },
  {
   "cell_type": "code",
   "execution_count": 15,
   "metadata": {},
   "outputs": [],
   "source": [
    "# model0.save('C:/Users/yaras/Documents/Research/Feldman/saved-models/trained-models/relu_model')"
   ]
  },
  {
   "cell_type": "code",
   "execution_count": 16,
   "metadata": {},
   "outputs": [
    {
     "data": {
      "image/png": "[encoded data removed]",
      "text/plain": [
       "<Figure size 1440x576 with 3 Axes>"
      ]
     },
     "metadata": {
      "needs_background": "light"
     },
     "output_type": "display_data"
    }
   ],
   "source": [
    "# to help with visualization\n",
    "# Enter the number of the catalogue you want to view the component velocities for\n",
    "\n",
    "# enter number of catalogue you want to view\n",
    "# must be an integer, and must be 0 <= num < len(output_pred[:,1])\n",
    "# if the number does not follow these rules, it will produce an error\n",
    "num = 0  # change this as needed\n",
    "\n",
    "fig = plt.figure()\n",
    "fig.set_figheight(8) \n",
    "fig.set_figwidth(20)\n",
    "fig.suptitle(f'Component Velocities for Catalogue No. {num}')\n",
    "\n",
    "bx = fig.add_subplot(1, 3, 1)\n",
    "plt.scatter(output_test[:, 0][num], output_pred[:, 0][num], color='red')\n",
    "plt.scatter(output_test[:, 0][num], output_test[:, 0][num], color='green')\n",
    "plt.title('Predicted vs True bulkflows: x-component')\n",
    "\n",
    "\n",
    "by = fig.add_subplot(1, 3, 2, sharey=bx)\n",
    "plt.scatter(output_test[:, 1][num], output_pred[:, 1][num], color='red')\n",
    "plt.scatter(output_test[:, 1][num], output_test[:, 1][num], color='green')\n",
    "plt.title('Predicted vs True bulkflows: y-component')\n",
    "\n",
    "bz = fig.add_subplot(1, 3, 3, sharey=bx)\n",
    "plt.scatter(output_test[:, 2][num], output_pred[:, 2][num], color='red')\n",
    "plt.scatter(output_test[:, 2][num], output_test[:, 2][num], color='green')\n",
    "plt.title('Predicted vs True bulkflows: z-component')\n",
    "\n",
    "plt.show()"
   ]
  },
  {
   "cell_type": "code",
   "execution_count": 17,
   "metadata": {},
   "outputs": [],
   "source": [
    "# import numpy as np\n",
    "# lens = []\n",
    "# for i in range(3000):\n",
    "#     data = np.load(f'C:/Users/yaras/Documents/Research/Feldman/rotated-outerrim-cz-rand/rotated-{i}-error-40.npy.npz')\n",
    "#     data = data['data']\n",
    "#     lens.append(data.shape[0])\n",
    "    \n",
    "# print(min(lens))\n",
    "# print(max(lens))"
   ]
  }
 ],
 "metadata": {
  "interpreter": {
   "hash": "369f2c481f4da34e4445cda3fffd2e751bd1c4d706f27375911949ba6bb62e1c"
  },
  "kernelspec": {
   "display_name": "Python 3.10.4 64-bit",
   "language": "python",
   "name": "python3"
  },
  "language_info": {
   "codemirror_mode": {
    "name": "ipython",
    "version": 3
   },
   "file_extension": ".py",
   "mimetype": "text/x-python",
   "name": "python",
   "nbconvert_exporter": "python",
   "pygments_lexer": "ipython3",
   "version": "3.10.4"
  },
  "orig_nbformat": 4
 },
 "nbformat": 4,
 "nbformat_minor": 2
}
