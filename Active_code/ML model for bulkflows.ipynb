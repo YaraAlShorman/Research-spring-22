{
 "cells": [
  {
   "cell_type": "code",
   "execution_count": 33,
   "metadata": {},
   "outputs": [],
   "source": [
    "# This code is written by Yara Al-Shorman\n",
    "# Date created: May 18 2022\n",
    "# Last modified: Jun 6 2022\n",
    "# Github repo: https://github.com/YaraAlShorman/Research-spring-22\n",
    "# The purpose of this code is to predict the bulkflows for a large given set of galaxies (using machine learning)"
   ]
  },
  {
   "cell_type": "markdown",
   "metadata": {},
   "source": [
    "### imports"
   ]
  },
  {
   "cell_type": "code",
   "execution_count": 34,
   "metadata": {},
   "outputs": [],
   "source": [
    "# imports\n",
    "import tensorflow as tf\n",
    "from numpy import load, concatenate, expand_dims  # I am doing this to minimize unncessary imports, they take up too much RAM and time\n",
    "from sklearn.preprocessing import MinMaxScaler\n",
    "from math import floor\n",
    "from matplotlib import pyplot as plt"
   ]
  },
  {
   "cell_type": "code",
   "execution_count": 35,
   "metadata": {},
   "outputs": [],
   "source": [
    "# # run this snippet to disable GPU\n",
    "\n",
    "# import os\n",
    "\n",
    "# os.environ['CUDA_VISIBLE_DEVICES'] = '-1'\n",
    "\n",
    "# if tf.test.gpu_device_name():\n",
    "#     print('GPU found')\n",
    "# else:\n",
    "#     print(\"No GPU found\")"
   ]
  },
  {
   "cell_type": "markdown",
   "metadata": {},
   "source": [
    "### checking for GPU"
   ]
  },
  {
   "cell_type": "markdown",
   "metadata": {},
   "source": [
    "### tangent: running tensorflow with GPU\n",
    "\n",
    "Tensorflow by default attempts to run on GPU if possible. If the capability to do so was not found, it runs on the CPU. <br>\n",
    "To allow it to run on the GPU and you are using an NVIDIA graphics card, you must download the THE CORRECT VERSIONS of CUDNN, CUDA, Tensorflow, and Python. <br>\n",
    "Yes, all of them have to match up. (It took me 2 days to figure that out) <br>\n",
    "To check if your NVIDIA GPU is compatible (I dont know if this works for AMD GPUs): Refer to https://developer.nvidia.com/cuda-gpus <br>\n",
    "I have a GTX 1650 TI with Max-Q capability. Which is compatible.<br>\n",
    "Furthermore, you must ensure you have matching versions of Python, Tensorflow, CUDNN and CUDA. <br>\n",
    "No, having the newest versions is not enough. <br>\n",
    "I installed: <br>\n",
    "CUDNN v11.2 <br>\n",
    "CUDA v8.1 <br>\n",
    "Tensorflow v2.9 <br>\n",
    "Python v3.10 <br>\n",
    "You also need a compatible version of Visual Studio (MSVC). I have MSVC 2019. <br>\n",
    "Keep in mind that the newest versions of CUDA and CUDNN are 8.4 and 11.7, respectively. Which will NOT work. Pay careful attention to versions. <br>\n",
    "Refer to this page for compatible versions: https://www.tensorflow.org/install/source_windows#gpu <br>\n",
    "Of course, things are different if you are using Mac or Linux <br>"
   ]
  },
  {
   "cell_type": "code",
   "execution_count": 36,
   "metadata": {},
   "outputs": [
    {
     "name": "stdout",
     "output_type": "stream",
     "text": [
      "[PhysicalDevice(name='/physical_device:GPU:0', device_type='GPU')]\n"
     ]
    }
   ],
   "source": [
    "# checking that GPU is available\n",
    "print(tf.config.list_physical_devices('GPU'))"
   ]
  },
  {
   "cell_type": "code",
   "execution_count": 37,
   "metadata": {},
   "outputs": [],
   "source": [
    "# to avoid memory allocation/resource errors with my GPU\n",
    "# this prevents Tensorflow from allocating all the memory at once, and instead\n",
    "# allocating it as necessary\n",
    "# such that it doesn't exhaust the entire 4 GB of memory from the GPU\n",
    "\n",
    "gpus = tf.config.experimental.list_physical_devices('GPU') \n",
    "for gpu in gpus: tf.config.experimental.set_memory_growth(gpu, True)"
   ]
  },
  {
   "cell_type": "markdown",
   "metadata": {},
   "source": [
    "### data preprocessing"
   ]
  },
  {
   "cell_type": "code",
   "execution_count": 38,
   "metadata": {},
   "outputs": [],
   "source": [
    "# stacking all of the data into one humungous tensor\n",
    "# I am using tensors because they can be ragged and can be stacked\n",
    "# these means we won't have to cut off our data to standardize array sizes\n",
    "# data = load(f'C:/Users/yaras/Documents/Research/Feldman/rotated-outerrim-cz-rand/rotated-0-error-40.npy.npz')\n",
    "data = load(f'C:/Users/yaras/Documents/Research/Feldman/TEST/rotated-0-TEST.npz')\n",
    "input_data = data['data']\n",
    "scaler = MinMaxScaler()\n",
    "scaler.fit(input_data)\n",
    "input_data = scaler.transform(input_data)\n",
    "input_data = tf.expand_dims(input_data, axis=0)\n",
    "input_data = tf.RaggedTensor.from_tensor(input_data)\n",
    "# if scaling the data this way doesn't work good enough, i can try scaling all the data at once, to one scale\n",
    "# in this case, i am scaling every 'square' of data seprately\n",
    "# i should try scaling the entire 'cube' at once\n",
    "\n",
    "output_data = tf.convert_to_tensor(data['header'])\n",
    "output_data = tf.expand_dims(output_data, axis=0)\n",
    "\n",
    "num_of_files = 100  # variable for number of files to load, current limit is 3000\n",
    "files_acc = range(10, num_of_files)\n",
    "\n",
    "for i in files_acc: # limit 3000\n",
    "        # array_data = load(f'C:/Users/yaras/Documents/Research/Feldman/rotated-outerrim-cz-rand/rotated-{i}-error-40.npy.npz')\n",
    "        array_data = load(f'C:/Users/yaras/Documents/Research/Feldman/TEST/rotated-{i}-TEST.npz')\n",
    "        # 'data' data\n",
    "        temp = tf.convert_to_tensor(array_data['data'], dtype='float64')\n",
    "        scaler = MinMaxScaler()\n",
    "        scaler.fit(temp)\n",
    "        temp = scaler.transform(temp)\n",
    "        temp = tf.expand_dims(temp, axis=0)  # dimensions have to be expandad to be able to concat along the outer-dimension \n",
    "        input_data = tf.concat([input_data, temp], axis=0)  # concat adds to existing dimensions, does not create new ones\n",
    "        # 'input_data' is a tensor\n",
    "        \n",
    "        # 'header' data (bulkflows)\n",
    "        temp = array_data['header']\n",
    "        temp = expand_dims(temp, axis=0)\n",
    "        output_data = concatenate([output_data, temp], axis=0)\n",
    "        # 'output_data' is an array, because it is uniform \n",
    "        # i scale it (normalize it) all at once, then i convert it to a tensor\n",
    "        \n",
    "# next is scaling"
   ]
  },
  {
   "cell_type": "code",
   "execution_count": 39,
   "metadata": {},
   "outputs": [],
   "source": [
    "# normalizing/scaling the data\n",
    "scaler = MinMaxScaler()\n",
    "scaler.fit(output_data)\n",
    "output_data = scaler.transform(output_data)\n",
    "output_data = tf.convert_to_tensor(output_data)"
   ]
  },
  {
   "cell_type": "code",
   "execution_count": 40,
   "metadata": {},
   "outputs": [],
   "source": [
    "# splitting the data into train/test sections\n",
    "# 75% -> train\n",
    "# 25% -> test\n",
    "test_percent = 0.25\n",
    "cuttoff = len(files_acc) * test_percent\n",
    "input_test, input_train = (input_data[:floor(cuttoff)], \\\n",
    "                                input_data[floor(cuttoff)::])\n",
    "output_test, output_train = (output_data[:floor(cuttoff)], \\\n",
    "                                output_data[floor(cuttoff)::])\n",
    "\n",
    "# data is split and ready for the model"
   ]
  },
  {
   "cell_type": "markdown",
   "metadata": {},
   "source": [
    "### model creation"
   ]
  },
  {
   "cell_type": "code",
   "execution_count": 41,
   "metadata": {},
   "outputs": [],
   "source": [
    "# optimizer\n",
    "# 0.001\n",
    "optimizer = tf.keras.optimizers.Adam(learning_rate=1e-05)\n",
    "# optimizer = tf.keras.optimizers.SGD(learning_rate=0.00001)"
   ]
  },
  {
   "cell_type": "code",
   "execution_count": 42,
   "metadata": {},
   "outputs": [],
   "source": [
    "# model creation\n",
    "\n",
    "model0 = tf.keras.Sequential()\n",
    "model0.add(tf.keras.layers.InputLayer(input_shape=[None, 4], ragged=True, batch_size=64))\n",
    "model0.add(tf.keras.layers.LSTM(32, activation='tanh'))  # tanh is necessary to make GPU accelaration work\n",
    "model0.add(tf.keras.layers.Dense(16, activation='tanh'))\n",
    "# model0.add(tf.keras.layers.Dropout(0.3))\n",
    "model0.add(tf.keras.layers.Dense(8, activation='tanh'))\n",
    "# model0.add(tf.keras.layers.Dropout(0.3))\n",
    "model0.add(tf.keras.layers.Dense(4, activation='relu'))\n",
    "# model0.add(tf.keras.layers.Dropout(0.3))\n",
    "# model0.add(tf.keras.layers.Dense(16, activation='relu'))\n",
    "# model0.add(tf.keras.layers.Dropout(0.3))\n",
    "model0.add(tf.keras.layers.Dense(3, activation='linear'))\n",
    "\n",
    "model0.compile(loss='mean_squared_logarithmic_error', optimizer=optimizer, metrics=['accuracy'])"
   ]
  },
  {
   "cell_type": "code",
   "execution_count": 43,
   "metadata": {},
   "outputs": [
    {
     "name": "stdout",
     "output_type": "stream",
     "text": [
      "Model: \"sequential_1\"\n",
      "_________________________________________________________________\n",
      " Layer (type)                Output Shape              Param #   \n",
      "=================================================================\n",
      " lstm_1 (LSTM)               (64, 32)                  4736      \n",
      "                                                                 \n",
      " dense_4 (Dense)             (64, 16)                  528       \n",
      "                                                                 \n",
      " dense_5 (Dense)             (64, 8)                   136       \n",
      "                                                                 \n",
      " dense_6 (Dense)             (64, 4)                   36        \n",
      "                                                                 \n",
      " dense_7 (Dense)             (64, 3)                   15        \n",
      "                                                                 \n",
      "=================================================================\n",
      "Total params: 5,451\n",
      "Trainable params: 5,451\n",
      "Non-trainable params: 0\n",
      "_________________________________________________________________\n"
     ]
    }
   ],
   "source": [
    "model0.summary()"
   ]
  },
  {
   "cell_type": "code",
   "execution_count": 44,
   "metadata": {},
   "outputs": [
    {
     "name": "stdout",
     "output_type": "stream",
     "text": [
      "Epoch 1/20\n",
      "3/3 [==============================] - 3s 286ms/step - loss: 0.1491 - accuracy: 0.3333\n",
      "Epoch 2/20\n",
      "3/3 [==============================] - 1s 278ms/step - loss: 0.1487 - accuracy: 0.3333\n",
      "Epoch 3/20\n",
      "3/3 [==============================] - 1s 279ms/step - loss: 0.1483 - accuracy: 0.3333\n",
      "Epoch 4/20\n",
      "3/3 [==============================] - 1s 284ms/step - loss: 0.1480 - accuracy: 0.3333\n",
      "Epoch 5/20\n",
      "3/3 [==============================] - 1s 279ms/step - loss: 0.1476 - accuracy: 0.3333\n",
      "Epoch 6/20\n",
      "3/3 [==============================] - 1s 283ms/step - loss: 0.1472 - accuracy: 0.3333\n",
      "Epoch 7/20\n",
      "3/3 [==============================] - 1s 274ms/step - loss: 0.1468 - accuracy: 0.3333\n",
      "Epoch 8/20\n",
      "3/3 [==============================] - 1s 279ms/step - loss: 0.1464 - accuracy: 0.3333\n",
      "Epoch 9/20\n",
      "3/3 [==============================] - 1s 276ms/step - loss: 0.1461 - accuracy: 0.3333\n",
      "Epoch 10/20\n",
      "3/3 [==============================] - 1s 278ms/step - loss: 0.1457 - accuracy: 0.3333\n",
      "Epoch 11/20\n",
      "3/3 [==============================] - 1s 277ms/step - loss: 0.1453 - accuracy: 0.3333\n",
      "Epoch 12/20\n",
      "3/3 [==============================] - 1s 287ms/step - loss: 0.1450 - accuracy: 0.3333\n",
      "Epoch 13/20\n",
      "3/3 [==============================] - 1s 285ms/step - loss: 0.1446 - accuracy: 0.3333\n",
      "Epoch 14/20\n",
      "3/3 [==============================] - 1s 284ms/step - loss: 0.1443 - accuracy: 0.3333\n",
      "Epoch 15/20\n",
      "3/3 [==============================] - 1s 289ms/step - loss: 0.1439 - accuracy: 0.3333\n",
      "Epoch 16/20\n",
      "3/3 [==============================] - 1s 290ms/step - loss: 0.1435 - accuracy: 0.3333\n",
      "Epoch 17/20\n",
      "3/3 [==============================] - 1s 289ms/step - loss: 0.1432 - accuracy: 0.3333\n",
      "Epoch 18/20\n",
      "3/3 [==============================] - 1s 285ms/step - loss: 0.1428 - accuracy: 0.3333\n",
      "Epoch 19/20\n",
      "3/3 [==============================] - 1s 282ms/step - loss: 0.1425 - accuracy: 0.3333\n",
      "Epoch 20/20\n",
      "3/3 [==============================] - 1s 280ms/step - loss: 0.1422 - accuracy: 0.3333\n"
     ]
    }
   ],
   "source": [
    "a = model0.fit(input_train, output_train, epochs=20, use_multiprocessing=True, workers=1000)"
   ]
  },
  {
   "cell_type": "markdown",
   "metadata": {},
   "source": [
    "### testing & graphing results"
   ]
  },
  {
   "cell_type": "code",
   "execution_count": 45,
   "metadata": {},
   "outputs": [
    {
     "name": "stdout",
     "output_type": "stream",
     "text": [
      "1/1 [==============================] - 0s 468ms/step\n"
     ]
    }
   ],
   "source": [
    "output_pred = model0.predict(input_test)"
   ]
  },
  {
   "cell_type": "code",
   "execution_count": 46,
   "metadata": {},
   "outputs": [],
   "source": [
    "# recall that scaler = MinMaxScaler(), it uses the same transformer I used to scale the data initally to un-scale it\n",
    "output_pred = scaler.inverse_transform(output_pred)\n",
    "output_test = scaler.inverse_transform(output_test)"
   ]
  },
  {
   "cell_type": "code",
   "execution_count": 47,
   "metadata": {},
   "outputs": [],
   "source": [
    "# producing tensors of the true/predicted magnitues of the bulkflow\n",
    "# basically pythagorean theorem\n",
    "# magnitude = sqrt(x^2 + y^2 + z^2)\n",
    "\n",
    "bf = tf.math.sqrt(tf.math.pow(output_test[:, 0], 2) + tf.math.pow(output_test[:, 1], 2) + tf.math.pow(output_test[:, 2], 2))\n",
    "pred_bf = tf.math.sqrt(tf.math.pow(output_pred[:, 0], 2) + tf.math.pow(output_pred[:, 1], 2) + tf.math.pow(output_pred[:, 2], 2))"
   ]
  },
  {
   "cell_type": "code",
   "execution_count": 48,
   "metadata": {},
   "outputs": [
    {
     "data": {
      "image/png": "[encoded data removed]",
      "text/plain": [
       "<Figure size 1440x576 with 3 Axes>"
      ]
     },
     "metadata": {
      "needs_background": "light"
     },
     "output_type": "display_data"
    }
   ],
   "source": [
    "# GREEN is TRUE\n",
    "# RED is PREDICTED\n",
    "\n",
    "fig = plt.figure()\n",
    "fig.set_figheight(8) \n",
    "fig.set_figwidth(20)\n",
    "\n",
    "bx = fig.add_subplot(1, 3, 1)\n",
    "plt.scatter(output_test[:, 0], output_pred[:, 0], color='red')\n",
    "plt.scatter(output_test[:, 0], output_test[:, 0], color='green')\n",
    "plt.title('Predicted vs True bulkflows: x-component')\n",
    "\n",
    "\n",
    "by = fig.add_subplot(1, 3, 2, sharey=bx)\n",
    "plt.scatter(output_test[:, 1], output_pred[:, 1], color='red')\n",
    "plt.scatter(output_test[:, 1], output_test[:, 1], color='green')\n",
    "plt.title('Predicted vs True bulkflows: y-component')\n",
    "\n",
    "bz = fig.add_subplot(1, 3, 3, sharey=bx)\n",
    "plt.scatter(output_test[:, 2], output_pred[:, 2], color='red')\n",
    "plt.scatter(output_test[:, 2], output_test[:, 2], color='green')\n",
    "plt.title('Predicted vs True bulkflows: z-component')\n",
    "\n",
    "plt.show()"
   ]
  },
  {
   "cell_type": "code",
   "execution_count": 49,
   "metadata": {},
   "outputs": [
    {
     "data": {
      "image/png": "[encoded data removed]",
      "text/plain": [
       "<Figure size 432x288 with 1 Axes>"
      ]
     },
     "metadata": {
      "needs_background": "light"
     },
     "output_type": "display_data"
    }
   ],
   "source": [
    "fig1 = plt.figure()\n",
    "bx = fig1.add_subplot(1, 1, 1)\n",
    "plt.scatter(bf, bf, color='green')\n",
    "plt.scatter(pred_bf, pred_bf, color='red')\n",
    "plt.title('Predicted vs True bulkflows: Magnitude')\n",
    "\n",
    "plt.show()\n"
   ]
  },
  {
   "cell_type": "code",
   "execution_count": 50,
   "metadata": {},
   "outputs": [
    {
     "data": {
      "image/png": "[encoded data removed]",
      "text/plain": [
       "<Figure size 1440x576 with 3 Axes>"
      ]
     },
     "metadata": {
      "needs_background": "light"
     },
     "output_type": "display_data"
    }
   ],
   "source": [
    "# to help with visualization\n",
    "# Enter the number of the catalogue you want to view the component velocities for\n",
    "\n",
    "# enter number of catalogue you want to view\n",
    "# must be an integer, and must be 0 <= num < len(output_pred[:,1])\n",
    "# if the number does not follow these rules, it will produce an error\n",
    "num = 0  # change this as needed\n",
    "\n",
    "fig = plt.figure()\n",
    "fig.set_figheight(8) \n",
    "fig.set_figwidth(20)\n",
    "fig.suptitle(f'Component Velocities for Catalogue No. {num}')\n",
    "\n",
    "bx = fig.add_subplot(1, 3, 1)\n",
    "plt.scatter(output_test[:, 0][num], output_pred[:, 0][num], color='red')\n",
    "plt.scatter(output_test[:, 0][num], output_test[:, 0][num], color='green')\n",
    "plt.title('Predicted vs True bulkflows: x-component')\n",
    "\n",
    "\n",
    "by = fig.add_subplot(1, 3, 2, sharey=bx)\n",
    "plt.scatter(output_test[:, 1][num], output_pred[:, 1][num], color='red')\n",
    "plt.scatter(output_test[:, 1][num], output_test[:, 1][num], color='green')\n",
    "plt.title('Predicted vs True bulkflows: y-component')\n",
    "\n",
    "bz = fig.add_subplot(1, 3, 3, sharey=bx)\n",
    "plt.scatter(output_test[:, 2][num], output_pred[:, 2][num], color='red')\n",
    "plt.scatter(output_test[:, 2][num], output_test[:, 2][num], color='green')\n",
    "plt.title('Predicted vs True bulkflows: z-component')\n",
    "\n",
    "plt.show()"
   ]
  }
 ],
 "metadata": {
  "interpreter": {
   "hash": "369f2c481f4da34e4445cda3fffd2e751bd1c4d706f27375911949ba6bb62e1c"
  },
  "kernelspec": {
   "display_name": "Python 3.10.4 64-bit",
   "language": "python",
   "name": "python3"
  },
  "language_info": {
   "codemirror_mode": {
    "name": "ipython",
    "version": 3
   },
   "file_extension": ".py",
   "mimetype": "text/x-python",
   "name": "python",
   "nbconvert_exporter": "python",
   "pygments_lexer": "ipython3",
   "version": "3.10.4"
  },
  "orig_nbformat": 4
 },
 "nbformat": 4,
 "nbformat_minor": 2
}
