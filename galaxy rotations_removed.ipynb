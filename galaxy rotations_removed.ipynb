{
 "metadata": {
  "interpreter": {
   "hash": "68de672baf2b383e51e9e3e26f5f087e2c70f9ad35b6a5f0811553099bef1a39"
  },
  "kernelspec": {
   "display_name": "Python 3.10.2 64-bit (windows store)",
   "language": "python",
   "name": "python3"
  },
  "language_info": {
   "codemirror_mode": {
    "name": "ipython",
    "version": 3
   },
   "file_extension": ".py",
   "mimetype": "text/x-python",
   "name": "python",
   "nbconvert_exporter": "python",
   "pygments_lexer": "ipython3",
   "version": "3.10.2"
  },
  "name": ""
 },
 "nbformat": 3,
 "nbformat_minor": 0,
 "worksheets": [
  {
   "cells": [
    {
     "cell_type": "code",
     "collapsed": false,
     "input": [
      "# # uncomment this to install packages\n",
      "# import sys\n",
      "# !{sys.executable} -m pip install <package name>"
     ],
     "language": "python",
     "metadata": {},
     "outputs": [],
     "prompt_number": null
    },
    {
     "cell_type": "heading",
     "level": 3,
     "metadata": {},
     "source": [
      "Imports"
     ]
    },
    {
     "cell_type": "code",
     "collapsed": false,
     "input": [
      "# imports\n",
      "import numpy as np\n",
      "from astropy import units as u\n",
      "from astropy import coordinates as c\n",
      "import matplotlib\n",
      "import matplotlib.pyplot as plt\n",
      "import astropy.modeling.rotations as r"
     ],
     "language": "python",
     "metadata": {},
     "outputs": [],
     "prompt_number": 4
    },
    {
     "cell_type": "code",
     "collapsed": false,
     "input": [
      "matplotlib.rcParams.keys()"
     ],
     "language": "python",
     "metadata": {},
     "outputs": [],
     "prompt_number": 157
    },
    {
     "cell_type": "heading",
     "level": 3,
     "metadata": {},
     "source": [
      "Loading, processing, plotting the data"
     ]
    },
    {
     "cell_type": "code",
     "collapsed": false,
     "input": [
      "# load the data\n",
      "for i in range(300): # use range(300) to run on all catalogues\n",
      "    data = np.load(f'C:/Users/yaras/Documents/Research/Feldman/outerrim/CF3-OuterRim-CF3grouplike-cz-rand/CF3-OuterRim-CF3grouplike-cz-rand-box-{i}.npy')\n",
      "    # glat and glon are in degrees, convert to radians\n",
      "    glon, glat = data[: ,10], data[: ,11]\n",
      "    glon = c.Angle(glon, u.degree)\n",
      "    glat = c.Angle(glat, u.degree)\n",
      "                    \n",
      "    # changing range of glon to (-180, 180) instead of (0, 360)\n",
      "    # glon = np.subtract(glon, u.Quantity(180, u.degree))\n",
      "    glon = glon.wrap_at('180d', inplace=False)\n",
      "    \n",
      "    # Accounting for zone of avoidance (taking out data points with -5 < glat < 5)\n",
      "    new_coords = np.where(abs(glat.value) > 5, (glon, glat), 0)\n",
      "    # new_coords = new_coords.nonzero()\n",
      "    \n",
      "    glat = new_coords\n",
      "    glon, glat = c.Angle(new_coords[0], u.degree), c.Angle(new_coords[1], u.degree)\n",
      "    \n",
      "    # rotated glon and glat, create copies to preserve originals                    \n",
      "    # rglon, rglat = glon.copy(), glat.copy()\n",
      "    # num = c.Angle(10, u.degree)\n",
      "    \n",
      "    # preform rotation\n",
      "    # rotater = r.SphericalRotationSequence([1.1, 2.1, 3.1], axes_order='xyz')\n",
      "    # rglon, rglat = rotater.evaluate(glon, glat, [1.1, 2.1, 3.1])\n",
      "    \n",
      "    # making figure\n",
      "    fig = plt.figure(figsize=(24, 24))\n",
      "    matplotlib.rcParams.update({'font.size': 18,\n",
      "                       'axes.linewidth': 1.5,\n",
      "                       'axes.labelweight': 'bold',\n",
      "                       })\n",
      "    ax1 = fig.add_subplot(121, projection='hammer')\n",
      "    ax1.scatter(glon.radian, glat.radian, marker='.', linewidths=0.001)\n",
      "    ax1.grid(True)\n",
      "    ax1.title.set_text(f'No. {i}')\n",
      "    \n",
      "    # making a small shift (shifting 5 degrees to the right)\n",
      "    glon = glon + c.Angle(5, u.degree)\n",
      "    \n",
      "    ax2 = fig.add_subplot(122, projection='hammer')\n",
      "    ax1.scatter(glon.wrap_at('180d', inplace=False).radian, glat.radian, marker='.', linewidths=0.001, color='green')\n",
      "    ax2.scatter(glon.wrap_at('180d', inplace=False).radian, glat.radian, marker='.', linewidths=0.001, color='red')\n",
      "    ax2.grid(True)\n",
      "    ax2.title.set_text(f'No. {i}')"
     ],
     "language": "python",
     "metadata": {},
     "outputs": [],
     "prompt_number": 14
    },
    {
     "cell_type": "code",
     "collapsed": false,
     "input": [
      "import math\n",
      "fig = plt.figure()\n",
      "ax = fig.add_subplot(111, projection='hammer')\n",
      "# ax.scatter(2*math.pi, math.pi, marker='x', linewidths=2.0)\n",
      "# ax.scatter(0*math.pi, math.pi/4, marker='x', linewidths=2.0, color='black')\n",
      "ax.scatter(math.pi, None, marker='x', linewidths=2.0, color='green')\n",
      "# ax.scatter(math.pi/3, math.pi, marker='x', linewidths=2.0, color='red')\n",
      "ax.grid(True)"
     ],
     "language": "python",
     "metadata": {},
     "outputs": [],
     "prompt_number": 178
    }
   ],
   "metadata": {}
  }
 ]
}